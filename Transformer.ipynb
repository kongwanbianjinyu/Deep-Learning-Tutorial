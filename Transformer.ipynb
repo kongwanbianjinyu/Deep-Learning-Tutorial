{
  "nbformat": 4,
  "nbformat_minor": 0,
  "metadata": {
    "colab": {
      "name": "Transformer.ipynb",
      "provenance": [],
      "mount_file_id": "1YXcZpODDulFYxS3LJLPVnTriikPjonM5",
      "authorship_tag": "ABX9TyNNxfjFqUFM26FJYMvLSPSR",
      "include_colab_link": true
    },
    "kernelspec": {
      "name": "python3",
      "display_name": "Python 3"
    },
    "language_info": {
      "name": "python"
    },
    "accelerator": "GPU",
    "gpuClass": "standard",
    "widgets": {
      "application/vnd.jupyter.widget-state+json": {
        "d703e2504721420e9de1b0a2c4a341d3": {
          "model_module": "@jupyter-widgets/controls",
          "model_name": "HBoxModel",
          "model_module_version": "1.5.0",
          "state": {
            "_dom_classes": [],
            "_model_module": "@jupyter-widgets/controls",
            "_model_module_version": "1.5.0",
            "_model_name": "HBoxModel",
            "_view_count": null,
            "_view_module": "@jupyter-widgets/controls",
            "_view_module_version": "1.5.0",
            "_view_name": "HBoxView",
            "box_style": "",
            "children": [
              "IPY_MODEL_9e14cb6cd41749d085d4cf944fa0645c",
              "IPY_MODEL_99ca9377d643403f94d0a71473d97615",
              "IPY_MODEL_86a0ae5bf62d4cfe9155b7e40f53ea92"
            ],
            "layout": "IPY_MODEL_6901a6f36d244634913a2184efbd735c"
          }
        },
        "9e14cb6cd41749d085d4cf944fa0645c": {
          "model_module": "@jupyter-widgets/controls",
          "model_name": "HTMLModel",
          "model_module_version": "1.5.0",
          "state": {
            "_dom_classes": [],
            "_model_module": "@jupyter-widgets/controls",
            "_model_module_version": "1.5.0",
            "_model_name": "HTMLModel",
            "_view_count": null,
            "_view_module": "@jupyter-widgets/controls",
            "_view_module_version": "1.5.0",
            "_view_name": "HTMLView",
            "description": "",
            "description_tooltip": null,
            "layout": "IPY_MODEL_41ebeba91abc4bd2ae0e788154c30771",
            "placeholder": "​",
            "style": "IPY_MODEL_5a18f2afac224aeb86817c725cb3cf1d",
            "value": "Testing DataLoader 0: 100%"
          }
        },
        "99ca9377d643403f94d0a71473d97615": {
          "model_module": "@jupyter-widgets/controls",
          "model_name": "FloatProgressModel",
          "model_module_version": "1.5.0",
          "state": {
            "_dom_classes": [],
            "_model_module": "@jupyter-widgets/controls",
            "_model_module_version": "1.5.0",
            "_model_name": "FloatProgressModel",
            "_view_count": null,
            "_view_module": "@jupyter-widgets/controls",
            "_view_module_version": "1.5.0",
            "_view_name": "ProgressView",
            "bar_style": "success",
            "description": "",
            "description_tooltip": null,
            "layout": "IPY_MODEL_3751f6fd281f499bac324d7aa1e3a241",
            "max": 8,
            "min": 0,
            "orientation": "horizontal",
            "style": "IPY_MODEL_46b1ada2ec7a4422bba0fa380b337c96",
            "value": 8
          }
        },
        "86a0ae5bf62d4cfe9155b7e40f53ea92": {
          "model_module": "@jupyter-widgets/controls",
          "model_name": "HTMLModel",
          "model_module_version": "1.5.0",
          "state": {
            "_dom_classes": [],
            "_model_module": "@jupyter-widgets/controls",
            "_model_module_version": "1.5.0",
            "_model_name": "HTMLModel",
            "_view_count": null,
            "_view_module": "@jupyter-widgets/controls",
            "_view_module_version": "1.5.0",
            "_view_name": "HTMLView",
            "description": "",
            "description_tooltip": null,
            "layout": "IPY_MODEL_41071d3f3c97475e814e90af816b6a76",
            "placeholder": "​",
            "style": "IPY_MODEL_5c7989e2f9f3449a940ee640d526f313",
            "value": " 8/8 [00:09&lt;00:00,  2.71it/s]"
          }
        },
        "6901a6f36d244634913a2184efbd735c": {
          "model_module": "@jupyter-widgets/base",
          "model_name": "LayoutModel",
          "model_module_version": "1.2.0",
          "state": {
            "_model_module": "@jupyter-widgets/base",
            "_model_module_version": "1.2.0",
            "_model_name": "LayoutModel",
            "_view_count": null,
            "_view_module": "@jupyter-widgets/base",
            "_view_module_version": "1.2.0",
            "_view_name": "LayoutView",
            "align_content": null,
            "align_items": null,
            "align_self": null,
            "border": null,
            "bottom": null,
            "display": "inline-flex",
            "flex": null,
            "flex_flow": "row wrap",
            "grid_area": null,
            "grid_auto_columns": null,
            "grid_auto_flow": null,
            "grid_auto_rows": null,
            "grid_column": null,
            "grid_gap": null,
            "grid_row": null,
            "grid_template_areas": null,
            "grid_template_columns": null,
            "grid_template_rows": null,
            "height": null,
            "justify_content": null,
            "justify_items": null,
            "left": null,
            "margin": null,
            "max_height": null,
            "max_width": null,
            "min_height": null,
            "min_width": null,
            "object_fit": null,
            "object_position": null,
            "order": null,
            "overflow": null,
            "overflow_x": null,
            "overflow_y": null,
            "padding": null,
            "right": null,
            "top": null,
            "visibility": null,
            "width": "100%"
          }
        },
        "41ebeba91abc4bd2ae0e788154c30771": {
          "model_module": "@jupyter-widgets/base",
          "model_name": "LayoutModel",
          "model_module_version": "1.2.0",
          "state": {
            "_model_module": "@jupyter-widgets/base",
            "_model_module_version": "1.2.0",
            "_model_name": "LayoutModel",
            "_view_count": null,
            "_view_module": "@jupyter-widgets/base",
            "_view_module_version": "1.2.0",
            "_view_name": "LayoutView",
            "align_content": null,
            "align_items": null,
            "align_self": null,
            "border": null,
            "bottom": null,
            "display": null,
            "flex": null,
            "flex_flow": null,
            "grid_area": null,
            "grid_auto_columns": null,
            "grid_auto_flow": null,
            "grid_auto_rows": null,
            "grid_column": null,
            "grid_gap": null,
            "grid_row": null,
            "grid_template_areas": null,
            "grid_template_columns": null,
            "grid_template_rows": null,
            "height": null,
            "justify_content": null,
            "justify_items": null,
            "left": null,
            "margin": null,
            "max_height": null,
            "max_width": null,
            "min_height": null,
            "min_width": null,
            "object_fit": null,
            "object_position": null,
            "order": null,
            "overflow": null,
            "overflow_x": null,
            "overflow_y": null,
            "padding": null,
            "right": null,
            "top": null,
            "visibility": null,
            "width": null
          }
        },
        "5a18f2afac224aeb86817c725cb3cf1d": {
          "model_module": "@jupyter-widgets/controls",
          "model_name": "DescriptionStyleModel",
          "model_module_version": "1.5.0",
          "state": {
            "_model_module": "@jupyter-widgets/controls",
            "_model_module_version": "1.5.0",
            "_model_name": "DescriptionStyleModel",
            "_view_count": null,
            "_view_module": "@jupyter-widgets/base",
            "_view_module_version": "1.2.0",
            "_view_name": "StyleView",
            "description_width": ""
          }
        },
        "3751f6fd281f499bac324d7aa1e3a241": {
          "model_module": "@jupyter-widgets/base",
          "model_name": "LayoutModel",
          "model_module_version": "1.2.0",
          "state": {
            "_model_module": "@jupyter-widgets/base",
            "_model_module_version": "1.2.0",
            "_model_name": "LayoutModel",
            "_view_count": null,
            "_view_module": "@jupyter-widgets/base",
            "_view_module_version": "1.2.0",
            "_view_name": "LayoutView",
            "align_content": null,
            "align_items": null,
            "align_self": null,
            "border": null,
            "bottom": null,
            "display": null,
            "flex": "2",
            "flex_flow": null,
            "grid_area": null,
            "grid_auto_columns": null,
            "grid_auto_flow": null,
            "grid_auto_rows": null,
            "grid_column": null,
            "grid_gap": null,
            "grid_row": null,
            "grid_template_areas": null,
            "grid_template_columns": null,
            "grid_template_rows": null,
            "height": null,
            "justify_content": null,
            "justify_items": null,
            "left": null,
            "margin": null,
            "max_height": null,
            "max_width": null,
            "min_height": null,
            "min_width": null,
            "object_fit": null,
            "object_position": null,
            "order": null,
            "overflow": null,
            "overflow_x": null,
            "overflow_y": null,
            "padding": null,
            "right": null,
            "top": null,
            "visibility": null,
            "width": null
          }
        },
        "46b1ada2ec7a4422bba0fa380b337c96": {
          "model_module": "@jupyter-widgets/controls",
          "model_name": "ProgressStyleModel",
          "model_module_version": "1.5.0",
          "state": {
            "_model_module": "@jupyter-widgets/controls",
            "_model_module_version": "1.5.0",
            "_model_name": "ProgressStyleModel",
            "_view_count": null,
            "_view_module": "@jupyter-widgets/base",
            "_view_module_version": "1.2.0",
            "_view_name": "StyleView",
            "bar_color": null,
            "description_width": ""
          }
        },
        "41071d3f3c97475e814e90af816b6a76": {
          "model_module": "@jupyter-widgets/base",
          "model_name": "LayoutModel",
          "model_module_version": "1.2.0",
          "state": {
            "_model_module": "@jupyter-widgets/base",
            "_model_module_version": "1.2.0",
            "_model_name": "LayoutModel",
            "_view_count": null,
            "_view_module": "@jupyter-widgets/base",
            "_view_module_version": "1.2.0",
            "_view_name": "LayoutView",
            "align_content": null,
            "align_items": null,
            "align_self": null,
            "border": null,
            "bottom": null,
            "display": null,
            "flex": null,
            "flex_flow": null,
            "grid_area": null,
            "grid_auto_columns": null,
            "grid_auto_flow": null,
            "grid_auto_rows": null,
            "grid_column": null,
            "grid_gap": null,
            "grid_row": null,
            "grid_template_areas": null,
            "grid_template_columns": null,
            "grid_template_rows": null,
            "height": null,
            "justify_content": null,
            "justify_items": null,
            "left": null,
            "margin": null,
            "max_height": null,
            "max_width": null,
            "min_height": null,
            "min_width": null,
            "object_fit": null,
            "object_position": null,
            "order": null,
            "overflow": null,
            "overflow_x": null,
            "overflow_y": null,
            "padding": null,
            "right": null,
            "top": null,
            "visibility": null,
            "width": null
          }
        },
        "5c7989e2f9f3449a940ee640d526f313": {
          "model_module": "@jupyter-widgets/controls",
          "model_name": "DescriptionStyleModel",
          "model_module_version": "1.5.0",
          "state": {
            "_model_module": "@jupyter-widgets/controls",
            "_model_module_version": "1.5.0",
            "_model_name": "DescriptionStyleModel",
            "_view_count": null,
            "_view_module": "@jupyter-widgets/base",
            "_view_module_version": "1.2.0",
            "_view_name": "StyleView",
            "description_width": ""
          }
        },
        "af266237efa3461985005fb4988d1bd9": {
          "model_module": "@jupyter-widgets/controls",
          "model_name": "HBoxModel",
          "model_module_version": "1.5.0",
          "state": {
            "_dom_classes": [],
            "_model_module": "@jupyter-widgets/controls",
            "_model_module_version": "1.5.0",
            "_model_name": "HBoxModel",
            "_view_count": null,
            "_view_module": "@jupyter-widgets/controls",
            "_view_module_version": "1.5.0",
            "_view_name": "HBoxView",
            "box_style": "",
            "children": [
              "IPY_MODEL_090257b146614cd6831ddf96d8c59218",
              "IPY_MODEL_6743f92f1072425ebf2a98adab713efb",
              "IPY_MODEL_285bccbdc9aa44ce815c326e0b621b44"
            ],
            "layout": "IPY_MODEL_96dc6b762b4040fb80f2e996a074113c"
          }
        },
        "090257b146614cd6831ddf96d8c59218": {
          "model_module": "@jupyter-widgets/controls",
          "model_name": "HTMLModel",
          "model_module_version": "1.5.0",
          "state": {
            "_dom_classes": [],
            "_model_module": "@jupyter-widgets/controls",
            "_model_module_version": "1.5.0",
            "_model_name": "HTMLModel",
            "_view_count": null,
            "_view_module": "@jupyter-widgets/controls",
            "_view_module_version": "1.5.0",
            "_view_name": "HTMLView",
            "description": "",
            "description_tooltip": null,
            "layout": "IPY_MODEL_124e2663c162403397ff4d987251abc8",
            "placeholder": "​",
            "style": "IPY_MODEL_31cc57926d5c403bb37b86be22e901b3",
            "value": "Testing DataLoader 0: 100%"
          }
        },
        "6743f92f1072425ebf2a98adab713efb": {
          "model_module": "@jupyter-widgets/controls",
          "model_name": "FloatProgressModel",
          "model_module_version": "1.5.0",
          "state": {
            "_dom_classes": [],
            "_model_module": "@jupyter-widgets/controls",
            "_model_module_version": "1.5.0",
            "_model_name": "FloatProgressModel",
            "_view_count": null,
            "_view_module": "@jupyter-widgets/controls",
            "_view_module_version": "1.5.0",
            "_view_name": "ProgressView",
            "bar_style": "success",
            "description": "",
            "description_tooltip": null,
            "layout": "IPY_MODEL_c7e2c28ff69f43f8bd597cf22ded3daa",
            "max": 79,
            "min": 0,
            "orientation": "horizontal",
            "style": "IPY_MODEL_3d5b86d74e7141ad99c0d99a974d3cda",
            "value": 79
          }
        },
        "285bccbdc9aa44ce815c326e0b621b44": {
          "model_module": "@jupyter-widgets/controls",
          "model_name": "HTMLModel",
          "model_module_version": "1.5.0",
          "state": {
            "_dom_classes": [],
            "_model_module": "@jupyter-widgets/controls",
            "_model_module_version": "1.5.0",
            "_model_name": "HTMLModel",
            "_view_count": null,
            "_view_module": "@jupyter-widgets/controls",
            "_view_module_version": "1.5.0",
            "_view_name": "HTMLView",
            "description": "",
            "description_tooltip": null,
            "layout": "IPY_MODEL_4ec61f111a7c423081e7adc6f5155583",
            "placeholder": "​",
            "style": "IPY_MODEL_a723fa820dac444989da2309302b472f",
            "value": " 79/79 [00:00&lt;00:00, 303.34it/s]"
          }
        },
        "96dc6b762b4040fb80f2e996a074113c": {
          "model_module": "@jupyter-widgets/base",
          "model_name": "LayoutModel",
          "model_module_version": "1.2.0",
          "state": {
            "_model_module": "@jupyter-widgets/base",
            "_model_module_version": "1.2.0",
            "_model_name": "LayoutModel",
            "_view_count": null,
            "_view_module": "@jupyter-widgets/base",
            "_view_module_version": "1.2.0",
            "_view_name": "LayoutView",
            "align_content": null,
            "align_items": null,
            "align_self": null,
            "border": null,
            "bottom": null,
            "display": "inline-flex",
            "flex": null,
            "flex_flow": "row wrap",
            "grid_area": null,
            "grid_auto_columns": null,
            "grid_auto_flow": null,
            "grid_auto_rows": null,
            "grid_column": null,
            "grid_gap": null,
            "grid_row": null,
            "grid_template_areas": null,
            "grid_template_columns": null,
            "grid_template_rows": null,
            "height": null,
            "justify_content": null,
            "justify_items": null,
            "left": null,
            "margin": null,
            "max_height": null,
            "max_width": null,
            "min_height": null,
            "min_width": null,
            "object_fit": null,
            "object_position": null,
            "order": null,
            "overflow": null,
            "overflow_x": null,
            "overflow_y": null,
            "padding": null,
            "right": null,
            "top": null,
            "visibility": null,
            "width": "100%"
          }
        },
        "124e2663c162403397ff4d987251abc8": {
          "model_module": "@jupyter-widgets/base",
          "model_name": "LayoutModel",
          "model_module_version": "1.2.0",
          "state": {
            "_model_module": "@jupyter-widgets/base",
            "_model_module_version": "1.2.0",
            "_model_name": "LayoutModel",
            "_view_count": null,
            "_view_module": "@jupyter-widgets/base",
            "_view_module_version": "1.2.0",
            "_view_name": "LayoutView",
            "align_content": null,
            "align_items": null,
            "align_self": null,
            "border": null,
            "bottom": null,
            "display": null,
            "flex": null,
            "flex_flow": null,
            "grid_area": null,
            "grid_auto_columns": null,
            "grid_auto_flow": null,
            "grid_auto_rows": null,
            "grid_column": null,
            "grid_gap": null,
            "grid_row": null,
            "grid_template_areas": null,
            "grid_template_columns": null,
            "grid_template_rows": null,
            "height": null,
            "justify_content": null,
            "justify_items": null,
            "left": null,
            "margin": null,
            "max_height": null,
            "max_width": null,
            "min_height": null,
            "min_width": null,
            "object_fit": null,
            "object_position": null,
            "order": null,
            "overflow": null,
            "overflow_x": null,
            "overflow_y": null,
            "padding": null,
            "right": null,
            "top": null,
            "visibility": null,
            "width": null
          }
        },
        "31cc57926d5c403bb37b86be22e901b3": {
          "model_module": "@jupyter-widgets/controls",
          "model_name": "DescriptionStyleModel",
          "model_module_version": "1.5.0",
          "state": {
            "_model_module": "@jupyter-widgets/controls",
            "_model_module_version": "1.5.0",
            "_model_name": "DescriptionStyleModel",
            "_view_count": null,
            "_view_module": "@jupyter-widgets/base",
            "_view_module_version": "1.2.0",
            "_view_name": "StyleView",
            "description_width": ""
          }
        },
        "c7e2c28ff69f43f8bd597cf22ded3daa": {
          "model_module": "@jupyter-widgets/base",
          "model_name": "LayoutModel",
          "model_module_version": "1.2.0",
          "state": {
            "_model_module": "@jupyter-widgets/base",
            "_model_module_version": "1.2.0",
            "_model_name": "LayoutModel",
            "_view_count": null,
            "_view_module": "@jupyter-widgets/base",
            "_view_module_version": "1.2.0",
            "_view_name": "LayoutView",
            "align_content": null,
            "align_items": null,
            "align_self": null,
            "border": null,
            "bottom": null,
            "display": null,
            "flex": "2",
            "flex_flow": null,
            "grid_area": null,
            "grid_auto_columns": null,
            "grid_auto_flow": null,
            "grid_auto_rows": null,
            "grid_column": null,
            "grid_gap": null,
            "grid_row": null,
            "grid_template_areas": null,
            "grid_template_columns": null,
            "grid_template_rows": null,
            "height": null,
            "justify_content": null,
            "justify_items": null,
            "left": null,
            "margin": null,
            "max_height": null,
            "max_width": null,
            "min_height": null,
            "min_width": null,
            "object_fit": null,
            "object_position": null,
            "order": null,
            "overflow": null,
            "overflow_x": null,
            "overflow_y": null,
            "padding": null,
            "right": null,
            "top": null,
            "visibility": null,
            "width": null
          }
        },
        "3d5b86d74e7141ad99c0d99a974d3cda": {
          "model_module": "@jupyter-widgets/controls",
          "model_name": "ProgressStyleModel",
          "model_module_version": "1.5.0",
          "state": {
            "_model_module": "@jupyter-widgets/controls",
            "_model_module_version": "1.5.0",
            "_model_name": "ProgressStyleModel",
            "_view_count": null,
            "_view_module": "@jupyter-widgets/base",
            "_view_module_version": "1.2.0",
            "_view_name": "StyleView",
            "bar_color": null,
            "description_width": ""
          }
        },
        "4ec61f111a7c423081e7adc6f5155583": {
          "model_module": "@jupyter-widgets/base",
          "model_name": "LayoutModel",
          "model_module_version": "1.2.0",
          "state": {
            "_model_module": "@jupyter-widgets/base",
            "_model_module_version": "1.2.0",
            "_model_name": "LayoutModel",
            "_view_count": null,
            "_view_module": "@jupyter-widgets/base",
            "_view_module_version": "1.2.0",
            "_view_name": "LayoutView",
            "align_content": null,
            "align_items": null,
            "align_self": null,
            "border": null,
            "bottom": null,
            "display": null,
            "flex": null,
            "flex_flow": null,
            "grid_area": null,
            "grid_auto_columns": null,
            "grid_auto_flow": null,
            "grid_auto_rows": null,
            "grid_column": null,
            "grid_gap": null,
            "grid_row": null,
            "grid_template_areas": null,
            "grid_template_columns": null,
            "grid_template_rows": null,
            "height": null,
            "justify_content": null,
            "justify_items": null,
            "left": null,
            "margin": null,
            "max_height": null,
            "max_width": null,
            "min_height": null,
            "min_width": null,
            "object_fit": null,
            "object_position": null,
            "order": null,
            "overflow": null,
            "overflow_x": null,
            "overflow_y": null,
            "padding": null,
            "right": null,
            "top": null,
            "visibility": null,
            "width": null
          }
        },
        "a723fa820dac444989da2309302b472f": {
          "model_module": "@jupyter-widgets/controls",
          "model_name": "DescriptionStyleModel",
          "model_module_version": "1.5.0",
          "state": {
            "_model_module": "@jupyter-widgets/controls",
            "_model_module_version": "1.5.0",
            "_model_name": "DescriptionStyleModel",
            "_view_count": null,
            "_view_module": "@jupyter-widgets/base",
            "_view_module_version": "1.2.0",
            "_view_name": "StyleView",
            "description_width": ""
          }
        },
        "f47395ee667d408bbb4ecfea4b6b876f": {
          "model_module": "@jupyter-widgets/controls",
          "model_name": "HBoxModel",
          "model_module_version": "1.5.0",
          "state": {
            "_dom_classes": [],
            "_model_module": "@jupyter-widgets/controls",
            "_model_module_version": "1.5.0",
            "_model_name": "HBoxModel",
            "_view_count": null,
            "_view_module": "@jupyter-widgets/controls",
            "_view_module_version": "1.5.0",
            "_view_name": "HBoxView",
            "box_style": "",
            "children": [
              "IPY_MODEL_c9c3b654c13d431ea6a9573ddf5f07bd",
              "IPY_MODEL_ebdf9c5db5d049e488bb5877a2769005",
              "IPY_MODEL_a0c73e329cb1408d9ca101c836080e85"
            ],
            "layout": "IPY_MODEL_bd29adc9960841d08f70b6e2924ecba6"
          }
        },
        "c9c3b654c13d431ea6a9573ddf5f07bd": {
          "model_module": "@jupyter-widgets/controls",
          "model_name": "HTMLModel",
          "model_module_version": "1.5.0",
          "state": {
            "_dom_classes": [],
            "_model_module": "@jupyter-widgets/controls",
            "_model_module_version": "1.5.0",
            "_model_name": "HTMLModel",
            "_view_count": null,
            "_view_module": "@jupyter-widgets/controls",
            "_view_module_version": "1.5.0",
            "_view_name": "HTMLView",
            "description": "",
            "description_tooltip": null,
            "layout": "IPY_MODEL_5274735858204dca8c9888a55f2e9d34",
            "placeholder": "​",
            "style": "IPY_MODEL_207bd46df3104ba9b93156813336c645",
            "value": "Testing DataLoader 0: 100%"
          }
        },
        "ebdf9c5db5d049e488bb5877a2769005": {
          "model_module": "@jupyter-widgets/controls",
          "model_name": "FloatProgressModel",
          "model_module_version": "1.5.0",
          "state": {
            "_dom_classes": [],
            "_model_module": "@jupyter-widgets/controls",
            "_model_module_version": "1.5.0",
            "_model_name": "FloatProgressModel",
            "_view_count": null,
            "_view_module": "@jupyter-widgets/controls",
            "_view_module_version": "1.5.0",
            "_view_name": "ProgressView",
            "bar_style": "success",
            "description": "",
            "description_tooltip": null,
            "layout": "IPY_MODEL_11cfa430f7f6469aa73c746be66a49d0",
            "max": 703,
            "min": 0,
            "orientation": "horizontal",
            "style": "IPY_MODEL_8a4d4b7f1b0244e2b65c39853b20d468",
            "value": 703
          }
        },
        "a0c73e329cb1408d9ca101c836080e85": {
          "model_module": "@jupyter-widgets/controls",
          "model_name": "HTMLModel",
          "model_module_version": "1.5.0",
          "state": {
            "_dom_classes": [],
            "_model_module": "@jupyter-widgets/controls",
            "_model_module_version": "1.5.0",
            "_model_name": "HTMLModel",
            "_view_count": null,
            "_view_module": "@jupyter-widgets/controls",
            "_view_module_version": "1.5.0",
            "_view_name": "HTMLView",
            "description": "",
            "description_tooltip": null,
            "layout": "IPY_MODEL_384fe906463f48aabbf4515c854ea32a",
            "placeholder": "​",
            "style": "IPY_MODEL_9138ced0437c49d6baa077e27709468c",
            "value": " 703/703 [00:09&lt;00:00, 74.04it/s]"
          }
        },
        "bd29adc9960841d08f70b6e2924ecba6": {
          "model_module": "@jupyter-widgets/base",
          "model_name": "LayoutModel",
          "model_module_version": "1.2.0",
          "state": {
            "_model_module": "@jupyter-widgets/base",
            "_model_module_version": "1.2.0",
            "_model_name": "LayoutModel",
            "_view_count": null,
            "_view_module": "@jupyter-widgets/base",
            "_view_module_version": "1.2.0",
            "_view_name": "LayoutView",
            "align_content": null,
            "align_items": null,
            "align_self": null,
            "border": null,
            "bottom": null,
            "display": "inline-flex",
            "flex": null,
            "flex_flow": "row wrap",
            "grid_area": null,
            "grid_auto_columns": null,
            "grid_auto_flow": null,
            "grid_auto_rows": null,
            "grid_column": null,
            "grid_gap": null,
            "grid_row": null,
            "grid_template_areas": null,
            "grid_template_columns": null,
            "grid_template_rows": null,
            "height": null,
            "justify_content": null,
            "justify_items": null,
            "left": null,
            "margin": null,
            "max_height": null,
            "max_width": null,
            "min_height": null,
            "min_width": null,
            "object_fit": null,
            "object_position": null,
            "order": null,
            "overflow": null,
            "overflow_x": null,
            "overflow_y": null,
            "padding": null,
            "right": null,
            "top": null,
            "visibility": null,
            "width": "100%"
          }
        },
        "5274735858204dca8c9888a55f2e9d34": {
          "model_module": "@jupyter-widgets/base",
          "model_name": "LayoutModel",
          "model_module_version": "1.2.0",
          "state": {
            "_model_module": "@jupyter-widgets/base",
            "_model_module_version": "1.2.0",
            "_model_name": "LayoutModel",
            "_view_count": null,
            "_view_module": "@jupyter-widgets/base",
            "_view_module_version": "1.2.0",
            "_view_name": "LayoutView",
            "align_content": null,
            "align_items": null,
            "align_self": null,
            "border": null,
            "bottom": null,
            "display": null,
            "flex": null,
            "flex_flow": null,
            "grid_area": null,
            "grid_auto_columns": null,
            "grid_auto_flow": null,
            "grid_auto_rows": null,
            "grid_column": null,
            "grid_gap": null,
            "grid_row": null,
            "grid_template_areas": null,
            "grid_template_columns": null,
            "grid_template_rows": null,
            "height": null,
            "justify_content": null,
            "justify_items": null,
            "left": null,
            "margin": null,
            "max_height": null,
            "max_width": null,
            "min_height": null,
            "min_width": null,
            "object_fit": null,
            "object_position": null,
            "order": null,
            "overflow": null,
            "overflow_x": null,
            "overflow_y": null,
            "padding": null,
            "right": null,
            "top": null,
            "visibility": null,
            "width": null
          }
        },
        "207bd46df3104ba9b93156813336c645": {
          "model_module": "@jupyter-widgets/controls",
          "model_name": "DescriptionStyleModel",
          "model_module_version": "1.5.0",
          "state": {
            "_model_module": "@jupyter-widgets/controls",
            "_model_module_version": "1.5.0",
            "_model_name": "DescriptionStyleModel",
            "_view_count": null,
            "_view_module": "@jupyter-widgets/base",
            "_view_module_version": "1.2.0",
            "_view_name": "StyleView",
            "description_width": ""
          }
        },
        "11cfa430f7f6469aa73c746be66a49d0": {
          "model_module": "@jupyter-widgets/base",
          "model_name": "LayoutModel",
          "model_module_version": "1.2.0",
          "state": {
            "_model_module": "@jupyter-widgets/base",
            "_model_module_version": "1.2.0",
            "_model_name": "LayoutModel",
            "_view_count": null,
            "_view_module": "@jupyter-widgets/base",
            "_view_module_version": "1.2.0",
            "_view_name": "LayoutView",
            "align_content": null,
            "align_items": null,
            "align_self": null,
            "border": null,
            "bottom": null,
            "display": null,
            "flex": "2",
            "flex_flow": null,
            "grid_area": null,
            "grid_auto_columns": null,
            "grid_auto_flow": null,
            "grid_auto_rows": null,
            "grid_column": null,
            "grid_gap": null,
            "grid_row": null,
            "grid_template_areas": null,
            "grid_template_columns": null,
            "grid_template_rows": null,
            "height": null,
            "justify_content": null,
            "justify_items": null,
            "left": null,
            "margin": null,
            "max_height": null,
            "max_width": null,
            "min_height": null,
            "min_width": null,
            "object_fit": null,
            "object_position": null,
            "order": null,
            "overflow": null,
            "overflow_x": null,
            "overflow_y": null,
            "padding": null,
            "right": null,
            "top": null,
            "visibility": null,
            "width": null
          }
        },
        "8a4d4b7f1b0244e2b65c39853b20d468": {
          "model_module": "@jupyter-widgets/controls",
          "model_name": "ProgressStyleModel",
          "model_module_version": "1.5.0",
          "state": {
            "_model_module": "@jupyter-widgets/controls",
            "_model_module_version": "1.5.0",
            "_model_name": "ProgressStyleModel",
            "_view_count": null,
            "_view_module": "@jupyter-widgets/base",
            "_view_module_version": "1.2.0",
            "_view_name": "StyleView",
            "bar_color": null,
            "description_width": ""
          }
        },
        "384fe906463f48aabbf4515c854ea32a": {
          "model_module": "@jupyter-widgets/base",
          "model_name": "LayoutModel",
          "model_module_version": "1.2.0",
          "state": {
            "_model_module": "@jupyter-widgets/base",
            "_model_module_version": "1.2.0",
            "_model_name": "LayoutModel",
            "_view_count": null,
            "_view_module": "@jupyter-widgets/base",
            "_view_module_version": "1.2.0",
            "_view_name": "LayoutView",
            "align_content": null,
            "align_items": null,
            "align_self": null,
            "border": null,
            "bottom": null,
            "display": null,
            "flex": null,
            "flex_flow": null,
            "grid_area": null,
            "grid_auto_columns": null,
            "grid_auto_flow": null,
            "grid_auto_rows": null,
            "grid_column": null,
            "grid_gap": null,
            "grid_row": null,
            "grid_template_areas": null,
            "grid_template_columns": null,
            "grid_template_rows": null,
            "height": null,
            "justify_content": null,
            "justify_items": null,
            "left": null,
            "margin": null,
            "max_height": null,
            "max_width": null,
            "min_height": null,
            "min_width": null,
            "object_fit": null,
            "object_position": null,
            "order": null,
            "overflow": null,
            "overflow_x": null,
            "overflow_y": null,
            "padding": null,
            "right": null,
            "top": null,
            "visibility": null,
            "width": null
          }
        },
        "9138ced0437c49d6baa077e27709468c": {
          "model_module": "@jupyter-widgets/controls",
          "model_name": "DescriptionStyleModel",
          "model_module_version": "1.5.0",
          "state": {
            "_model_module": "@jupyter-widgets/controls",
            "_model_module_version": "1.5.0",
            "_model_name": "DescriptionStyleModel",
            "_view_count": null,
            "_view_module": "@jupyter-widgets/base",
            "_view_module_version": "1.2.0",
            "_view_name": "StyleView",
            "description_width": ""
          }
        },
        "41ce9ad790e849fd8fafbc1b5409a627": {
          "model_module": "@jupyter-widgets/controls",
          "model_name": "HBoxModel",
          "model_module_version": "1.5.0",
          "state": {
            "_dom_classes": [],
            "_model_module": "@jupyter-widgets/controls",
            "_model_module_version": "1.5.0",
            "_model_name": "HBoxModel",
            "_view_count": null,
            "_view_module": "@jupyter-widgets/controls",
            "_view_module_version": "1.5.0",
            "_view_name": "HBoxView",
            "box_style": "",
            "children": [
              "IPY_MODEL_861c66139c934c57bb6069451bb39163",
              "IPY_MODEL_8703f05574c14e928e6cd55d30956b69",
              "IPY_MODEL_e63a423041964045835a1cb662c89464"
            ],
            "layout": "IPY_MODEL_20fa8349fa8a42d78973099e58fb5a05"
          }
        },
        "861c66139c934c57bb6069451bb39163": {
          "model_module": "@jupyter-widgets/controls",
          "model_name": "HTMLModel",
          "model_module_version": "1.5.0",
          "state": {
            "_dom_classes": [],
            "_model_module": "@jupyter-widgets/controls",
            "_model_module_version": "1.5.0",
            "_model_name": "HTMLModel",
            "_view_count": null,
            "_view_module": "@jupyter-widgets/controls",
            "_view_module_version": "1.5.0",
            "_view_name": "HTMLView",
            "description": "",
            "description_tooltip": null,
            "layout": "IPY_MODEL_6cd1f6788cef41df9223b719bac2eb30",
            "placeholder": "​",
            "style": "IPY_MODEL_0dde69fd8ab5493cb325b9be4fdce989",
            "value": "Testing DataLoader 0: 100%"
          }
        },
        "8703f05574c14e928e6cd55d30956b69": {
          "model_module": "@jupyter-widgets/controls",
          "model_name": "FloatProgressModel",
          "model_module_version": "1.5.0",
          "state": {
            "_dom_classes": [],
            "_model_module": "@jupyter-widgets/controls",
            "_model_module_version": "1.5.0",
            "_model_name": "FloatProgressModel",
            "_view_count": null,
            "_view_module": "@jupyter-widgets/controls",
            "_view_module_version": "1.5.0",
            "_view_name": "ProgressView",
            "bar_style": "success",
            "description": "",
            "description_tooltip": null,
            "layout": "IPY_MODEL_84f70d167ca341f6ae65e36935c347b6",
            "max": 79,
            "min": 0,
            "orientation": "horizontal",
            "style": "IPY_MODEL_52c9f88a241147feaff920cf4c5c498b",
            "value": 79
          }
        },
        "e63a423041964045835a1cb662c89464": {
          "model_module": "@jupyter-widgets/controls",
          "model_name": "HTMLModel",
          "model_module_version": "1.5.0",
          "state": {
            "_dom_classes": [],
            "_model_module": "@jupyter-widgets/controls",
            "_model_module_version": "1.5.0",
            "_model_name": "HTMLModel",
            "_view_count": null,
            "_view_module": "@jupyter-widgets/controls",
            "_view_module_version": "1.5.0",
            "_view_name": "HTMLView",
            "description": "",
            "description_tooltip": null,
            "layout": "IPY_MODEL_0d4cbb6429da4116865e6bc0d9c6a52e",
            "placeholder": "​",
            "style": "IPY_MODEL_8e13e58e5d664e5ebeb56225245bf365",
            "value": " 79/79 [00:00&lt;00:00, 125.13it/s]"
          }
        },
        "20fa8349fa8a42d78973099e58fb5a05": {
          "model_module": "@jupyter-widgets/base",
          "model_name": "LayoutModel",
          "model_module_version": "1.2.0",
          "state": {
            "_model_module": "@jupyter-widgets/base",
            "_model_module_version": "1.2.0",
            "_model_name": "LayoutModel",
            "_view_count": null,
            "_view_module": "@jupyter-widgets/base",
            "_view_module_version": "1.2.0",
            "_view_name": "LayoutView",
            "align_content": null,
            "align_items": null,
            "align_self": null,
            "border": null,
            "bottom": null,
            "display": "inline-flex",
            "flex": null,
            "flex_flow": "row wrap",
            "grid_area": null,
            "grid_auto_columns": null,
            "grid_auto_flow": null,
            "grid_auto_rows": null,
            "grid_column": null,
            "grid_gap": null,
            "grid_row": null,
            "grid_template_areas": null,
            "grid_template_columns": null,
            "grid_template_rows": null,
            "height": null,
            "justify_content": null,
            "justify_items": null,
            "left": null,
            "margin": null,
            "max_height": null,
            "max_width": null,
            "min_height": null,
            "min_width": null,
            "object_fit": null,
            "object_position": null,
            "order": null,
            "overflow": null,
            "overflow_x": null,
            "overflow_y": null,
            "padding": null,
            "right": null,
            "top": null,
            "visibility": null,
            "width": "100%"
          }
        },
        "6cd1f6788cef41df9223b719bac2eb30": {
          "model_module": "@jupyter-widgets/base",
          "model_name": "LayoutModel",
          "model_module_version": "1.2.0",
          "state": {
            "_model_module": "@jupyter-widgets/base",
            "_model_module_version": "1.2.0",
            "_model_name": "LayoutModel",
            "_view_count": null,
            "_view_module": "@jupyter-widgets/base",
            "_view_module_version": "1.2.0",
            "_view_name": "LayoutView",
            "align_content": null,
            "align_items": null,
            "align_self": null,
            "border": null,
            "bottom": null,
            "display": null,
            "flex": null,
            "flex_flow": null,
            "grid_area": null,
            "grid_auto_columns": null,
            "grid_auto_flow": null,
            "grid_auto_rows": null,
            "grid_column": null,
            "grid_gap": null,
            "grid_row": null,
            "grid_template_areas": null,
            "grid_template_columns": null,
            "grid_template_rows": null,
            "height": null,
            "justify_content": null,
            "justify_items": null,
            "left": null,
            "margin": null,
            "max_height": null,
            "max_width": null,
            "min_height": null,
            "min_width": null,
            "object_fit": null,
            "object_position": null,
            "order": null,
            "overflow": null,
            "overflow_x": null,
            "overflow_y": null,
            "padding": null,
            "right": null,
            "top": null,
            "visibility": null,
            "width": null
          }
        },
        "0dde69fd8ab5493cb325b9be4fdce989": {
          "model_module": "@jupyter-widgets/controls",
          "model_name": "DescriptionStyleModel",
          "model_module_version": "1.5.0",
          "state": {
            "_model_module": "@jupyter-widgets/controls",
            "_model_module_version": "1.5.0",
            "_model_name": "DescriptionStyleModel",
            "_view_count": null,
            "_view_module": "@jupyter-widgets/base",
            "_view_module_version": "1.2.0",
            "_view_name": "StyleView",
            "description_width": ""
          }
        },
        "84f70d167ca341f6ae65e36935c347b6": {
          "model_module": "@jupyter-widgets/base",
          "model_name": "LayoutModel",
          "model_module_version": "1.2.0",
          "state": {
            "_model_module": "@jupyter-widgets/base",
            "_model_module_version": "1.2.0",
            "_model_name": "LayoutModel",
            "_view_count": null,
            "_view_module": "@jupyter-widgets/base",
            "_view_module_version": "1.2.0",
            "_view_name": "LayoutView",
            "align_content": null,
            "align_items": null,
            "align_self": null,
            "border": null,
            "bottom": null,
            "display": null,
            "flex": "2",
            "flex_flow": null,
            "grid_area": null,
            "grid_auto_columns": null,
            "grid_auto_flow": null,
            "grid_auto_rows": null,
            "grid_column": null,
            "grid_gap": null,
            "grid_row": null,
            "grid_template_areas": null,
            "grid_template_columns": null,
            "grid_template_rows": null,
            "height": null,
            "justify_content": null,
            "justify_items": null,
            "left": null,
            "margin": null,
            "max_height": null,
            "max_width": null,
            "min_height": null,
            "min_width": null,
            "object_fit": null,
            "object_position": null,
            "order": null,
            "overflow": null,
            "overflow_x": null,
            "overflow_y": null,
            "padding": null,
            "right": null,
            "top": null,
            "visibility": null,
            "width": null
          }
        },
        "52c9f88a241147feaff920cf4c5c498b": {
          "model_module": "@jupyter-widgets/controls",
          "model_name": "ProgressStyleModel",
          "model_module_version": "1.5.0",
          "state": {
            "_model_module": "@jupyter-widgets/controls",
            "_model_module_version": "1.5.0",
            "_model_name": "ProgressStyleModel",
            "_view_count": null,
            "_view_module": "@jupyter-widgets/base",
            "_view_module_version": "1.2.0",
            "_view_name": "StyleView",
            "bar_color": null,
            "description_width": ""
          }
        },
        "0d4cbb6429da4116865e6bc0d9c6a52e": {
          "model_module": "@jupyter-widgets/base",
          "model_name": "LayoutModel",
          "model_module_version": "1.2.0",
          "state": {
            "_model_module": "@jupyter-widgets/base",
            "_model_module_version": "1.2.0",
            "_model_name": "LayoutModel",
            "_view_count": null,
            "_view_module": "@jupyter-widgets/base",
            "_view_module_version": "1.2.0",
            "_view_name": "LayoutView",
            "align_content": null,
            "align_items": null,
            "align_self": null,
            "border": null,
            "bottom": null,
            "display": null,
            "flex": null,
            "flex_flow": null,
            "grid_area": null,
            "grid_auto_columns": null,
            "grid_auto_flow": null,
            "grid_auto_rows": null,
            "grid_column": null,
            "grid_gap": null,
            "grid_row": null,
            "grid_template_areas": null,
            "grid_template_columns": null,
            "grid_template_rows": null,
            "height": null,
            "justify_content": null,
            "justify_items": null,
            "left": null,
            "margin": null,
            "max_height": null,
            "max_width": null,
            "min_height": null,
            "min_width": null,
            "object_fit": null,
            "object_position": null,
            "order": null,
            "overflow": null,
            "overflow_x": null,
            "overflow_y": null,
            "padding": null,
            "right": null,
            "top": null,
            "visibility": null,
            "width": null
          }
        },
        "8e13e58e5d664e5ebeb56225245bf365": {
          "model_module": "@jupyter-widgets/controls",
          "model_name": "DescriptionStyleModel",
          "model_module_version": "1.5.0",
          "state": {
            "_model_module": "@jupyter-widgets/controls",
            "_model_module_version": "1.5.0",
            "_model_name": "DescriptionStyleModel",
            "_view_count": null,
            "_view_module": "@jupyter-widgets/base",
            "_view_module_version": "1.2.0",
            "_view_name": "StyleView",
            "description_width": ""
          }
        },
        "6e6097bfdd8a48c1ba59b5f134818677": {
          "model_module": "@jupyter-widgets/controls",
          "model_name": "HBoxModel",
          "model_module_version": "1.5.0",
          "state": {
            "_dom_classes": [],
            "_model_module": "@jupyter-widgets/controls",
            "_model_module_version": "1.5.0",
            "_model_name": "HBoxModel",
            "_view_count": null,
            "_view_module": "@jupyter-widgets/controls",
            "_view_module_version": "1.5.0",
            "_view_name": "HBoxView",
            "box_style": "",
            "children": [
              "IPY_MODEL_247e84cb9e2b4f9c9cb2e573b0ca1f98",
              "IPY_MODEL_037b748521d8453682b346b507564917",
              "IPY_MODEL_66541f6700264d989f6aa40865bbdc30"
            ],
            "layout": "IPY_MODEL_a3eb15a9f5ff457ca0535848dc7f926a"
          }
        },
        "247e84cb9e2b4f9c9cb2e573b0ca1f98": {
          "model_module": "@jupyter-widgets/controls",
          "model_name": "HTMLModel",
          "model_module_version": "1.5.0",
          "state": {
            "_dom_classes": [],
            "_model_module": "@jupyter-widgets/controls",
            "_model_module_version": "1.5.0",
            "_model_name": "HTMLModel",
            "_view_count": null,
            "_view_module": "@jupyter-widgets/controls",
            "_view_module_version": "1.5.0",
            "_view_name": "HTMLView",
            "description": "",
            "description_tooltip": null,
            "layout": "IPY_MODEL_8bcb5a1ff2b747ecb91b4aba7beb4579",
            "placeholder": "​",
            "style": "IPY_MODEL_4b5060f605904a11ac63d3afaad9022a",
            "value": "Testing DataLoader 0: 100%"
          }
        },
        "037b748521d8453682b346b507564917": {
          "model_module": "@jupyter-widgets/controls",
          "model_name": "FloatProgressModel",
          "model_module_version": "1.5.0",
          "state": {
            "_dom_classes": [],
            "_model_module": "@jupyter-widgets/controls",
            "_model_module_version": "1.5.0",
            "_model_name": "FloatProgressModel",
            "_view_count": null,
            "_view_module": "@jupyter-widgets/controls",
            "_view_module_version": "1.5.0",
            "_view_name": "ProgressView",
            "bar_style": "success",
            "description": "",
            "description_tooltip": null,
            "layout": "IPY_MODEL_3c6fa94a874f4dbc87269741867df2a9",
            "max": 157,
            "min": 0,
            "orientation": "horizontal",
            "style": "IPY_MODEL_c34e42b7062b4cd7930cf6cc98199de9",
            "value": 157
          }
        },
        "66541f6700264d989f6aa40865bbdc30": {
          "model_module": "@jupyter-widgets/controls",
          "model_name": "HTMLModel",
          "model_module_version": "1.5.0",
          "state": {
            "_dom_classes": [],
            "_model_module": "@jupyter-widgets/controls",
            "_model_module_version": "1.5.0",
            "_model_name": "HTMLModel",
            "_view_count": null,
            "_view_module": "@jupyter-widgets/controls",
            "_view_module_version": "1.5.0",
            "_view_name": "HTMLView",
            "description": "",
            "description_tooltip": null,
            "layout": "IPY_MODEL_b150c03f249041c39672a446c63cd1ee",
            "placeholder": "​",
            "style": "IPY_MODEL_accc6ac277504df3ac0a7f094e2be001",
            "value": " 157/157 [00:01&lt;00:00, 127.51it/s]"
          }
        },
        "a3eb15a9f5ff457ca0535848dc7f926a": {
          "model_module": "@jupyter-widgets/base",
          "model_name": "LayoutModel",
          "model_module_version": "1.2.0",
          "state": {
            "_model_module": "@jupyter-widgets/base",
            "_model_module_version": "1.2.0",
            "_model_name": "LayoutModel",
            "_view_count": null,
            "_view_module": "@jupyter-widgets/base",
            "_view_module_version": "1.2.0",
            "_view_name": "LayoutView",
            "align_content": null,
            "align_items": null,
            "align_self": null,
            "border": null,
            "bottom": null,
            "display": "inline-flex",
            "flex": null,
            "flex_flow": "row wrap",
            "grid_area": null,
            "grid_auto_columns": null,
            "grid_auto_flow": null,
            "grid_auto_rows": null,
            "grid_column": null,
            "grid_gap": null,
            "grid_row": null,
            "grid_template_areas": null,
            "grid_template_columns": null,
            "grid_template_rows": null,
            "height": null,
            "justify_content": null,
            "justify_items": null,
            "left": null,
            "margin": null,
            "max_height": null,
            "max_width": null,
            "min_height": null,
            "min_width": null,
            "object_fit": null,
            "object_position": null,
            "order": null,
            "overflow": null,
            "overflow_x": null,
            "overflow_y": null,
            "padding": null,
            "right": null,
            "top": null,
            "visibility": null,
            "width": "100%"
          }
        },
        "8bcb5a1ff2b747ecb91b4aba7beb4579": {
          "model_module": "@jupyter-widgets/base",
          "model_name": "LayoutModel",
          "model_module_version": "1.2.0",
          "state": {
            "_model_module": "@jupyter-widgets/base",
            "_model_module_version": "1.2.0",
            "_model_name": "LayoutModel",
            "_view_count": null,
            "_view_module": "@jupyter-widgets/base",
            "_view_module_version": "1.2.0",
            "_view_name": "LayoutView",
            "align_content": null,
            "align_items": null,
            "align_self": null,
            "border": null,
            "bottom": null,
            "display": null,
            "flex": null,
            "flex_flow": null,
            "grid_area": null,
            "grid_auto_columns": null,
            "grid_auto_flow": null,
            "grid_auto_rows": null,
            "grid_column": null,
            "grid_gap": null,
            "grid_row": null,
            "grid_template_areas": null,
            "grid_template_columns": null,
            "grid_template_rows": null,
            "height": null,
            "justify_content": null,
            "justify_items": null,
            "left": null,
            "margin": null,
            "max_height": null,
            "max_width": null,
            "min_height": null,
            "min_width": null,
            "object_fit": null,
            "object_position": null,
            "order": null,
            "overflow": null,
            "overflow_x": null,
            "overflow_y": null,
            "padding": null,
            "right": null,
            "top": null,
            "visibility": null,
            "width": null
          }
        },
        "4b5060f605904a11ac63d3afaad9022a": {
          "model_module": "@jupyter-widgets/controls",
          "model_name": "DescriptionStyleModel",
          "model_module_version": "1.5.0",
          "state": {
            "_model_module": "@jupyter-widgets/controls",
            "_model_module_version": "1.5.0",
            "_model_name": "DescriptionStyleModel",
            "_view_count": null,
            "_view_module": "@jupyter-widgets/base",
            "_view_module_version": "1.2.0",
            "_view_name": "StyleView",
            "description_width": ""
          }
        },
        "3c6fa94a874f4dbc87269741867df2a9": {
          "model_module": "@jupyter-widgets/base",
          "model_name": "LayoutModel",
          "model_module_version": "1.2.0",
          "state": {
            "_model_module": "@jupyter-widgets/base",
            "_model_module_version": "1.2.0",
            "_model_name": "LayoutModel",
            "_view_count": null,
            "_view_module": "@jupyter-widgets/base",
            "_view_module_version": "1.2.0",
            "_view_name": "LayoutView",
            "align_content": null,
            "align_items": null,
            "align_self": null,
            "border": null,
            "bottom": null,
            "display": null,
            "flex": "2",
            "flex_flow": null,
            "grid_area": null,
            "grid_auto_columns": null,
            "grid_auto_flow": null,
            "grid_auto_rows": null,
            "grid_column": null,
            "grid_gap": null,
            "grid_row": null,
            "grid_template_areas": null,
            "grid_template_columns": null,
            "grid_template_rows": null,
            "height": null,
            "justify_content": null,
            "justify_items": null,
            "left": null,
            "margin": null,
            "max_height": null,
            "max_width": null,
            "min_height": null,
            "min_width": null,
            "object_fit": null,
            "object_position": null,
            "order": null,
            "overflow": null,
            "overflow_x": null,
            "overflow_y": null,
            "padding": null,
            "right": null,
            "top": null,
            "visibility": null,
            "width": null
          }
        },
        "c34e42b7062b4cd7930cf6cc98199de9": {
          "model_module": "@jupyter-widgets/controls",
          "model_name": "ProgressStyleModel",
          "model_module_version": "1.5.0",
          "state": {
            "_model_module": "@jupyter-widgets/controls",
            "_model_module_version": "1.5.0",
            "_model_name": "ProgressStyleModel",
            "_view_count": null,
            "_view_module": "@jupyter-widgets/base",
            "_view_module_version": "1.2.0",
            "_view_name": "StyleView",
            "bar_color": null,
            "description_width": ""
          }
        },
        "b150c03f249041c39672a446c63cd1ee": {
          "model_module": "@jupyter-widgets/base",
          "model_name": "LayoutModel",
          "model_module_version": "1.2.0",
          "state": {
            "_model_module": "@jupyter-widgets/base",
            "_model_module_version": "1.2.0",
            "_model_name": "LayoutModel",
            "_view_count": null,
            "_view_module": "@jupyter-widgets/base",
            "_view_module_version": "1.2.0",
            "_view_name": "LayoutView",
            "align_content": null,
            "align_items": null,
            "align_self": null,
            "border": null,
            "bottom": null,
            "display": null,
            "flex": null,
            "flex_flow": null,
            "grid_area": null,
            "grid_auto_columns": null,
            "grid_auto_flow": null,
            "grid_auto_rows": null,
            "grid_column": null,
            "grid_gap": null,
            "grid_row": null,
            "grid_template_areas": null,
            "grid_template_columns": null,
            "grid_template_rows": null,
            "height": null,
            "justify_content": null,
            "justify_items": null,
            "left": null,
            "margin": null,
            "max_height": null,
            "max_width": null,
            "min_height": null,
            "min_width": null,
            "object_fit": null,
            "object_position": null,
            "order": null,
            "overflow": null,
            "overflow_x": null,
            "overflow_y": null,
            "padding": null,
            "right": null,
            "top": null,
            "visibility": null,
            "width": null
          }
        },
        "accc6ac277504df3ac0a7f094e2be001": {
          "model_module": "@jupyter-widgets/controls",
          "model_name": "DescriptionStyleModel",
          "model_module_version": "1.5.0",
          "state": {
            "_model_module": "@jupyter-widgets/controls",
            "_model_module_version": "1.5.0",
            "_model_name": "DescriptionStyleModel",
            "_view_count": null,
            "_view_module": "@jupyter-widgets/base",
            "_view_module_version": "1.2.0",
            "_view_name": "StyleView",
            "description_width": ""
          }
        }
      }
    }
  },
  "cells": [
    {
      "cell_type": "markdown",
      "metadata": {
        "id": "view-in-github",
        "colab_type": "text"
      },
      "source": [
        "<a href=\"https://colab.research.google.com/github/kongwanbianjinyu/Deep-Learning-Tutorial/blob/main/Transformer.ipynb\" target=\"_parent\"><img src=\"https://colab.research.google.com/assets/colab-badge.svg\" alt=\"Open In Colab\"/></a>"
      ]
    },
    {
      "cell_type": "code",
      "source": [
        "from google.colab import drive\n",
        "drive.mount('/content/drive')"
      ],
      "metadata": {
        "colab": {
          "base_uri": "https://localhost:8080/"
        },
        "id": "BN0dt8Jzy-Ju",
        "outputId": "691da363-4568-4091-d632-709009b8a19f"
      },
      "execution_count": 1,
      "outputs": [
        {
          "output_type": "stream",
          "name": "stdout",
          "text": [
            "Drive already mounted at /content/drive; to attempt to forcibly remount, call drive.mount(\"/content/drive\", force_remount=True).\n"
          ]
        }
      ]
    },
    {
      "cell_type": "code",
      "source": [
        "## Standard libraries\n",
        "import os\n",
        "import numpy as np\n",
        "import random\n",
        "import math\n",
        "import json\n",
        "from functools import partial\n",
        "\n",
        "## Imports for plotting\n",
        "import matplotlib.pyplot as plt\n",
        "plt.set_cmap('cividis')\n",
        "%matplotlib inline\n",
        "from IPython.display import set_matplotlib_formats\n",
        "set_matplotlib_formats('svg', 'pdf') # For export\n",
        "from matplotlib.colors import to_rgb\n",
        "import matplotlib\n",
        "matplotlib.rcParams['lines.linewidth'] = 2.0\n",
        "import seaborn as sns\n",
        "sns.reset_orig()\n",
        "\n",
        "## tqdm for loading bars\n",
        "from tqdm.notebook import tqdm\n",
        "\n",
        "## PyTorch\n",
        "import torch\n",
        "import torch.nn as nn\n",
        "import torch.nn.functional as F\n",
        "import torch.utils.data as data\n",
        "import torch.optim as optim\n",
        "\n",
        "## Torchvision\n",
        "import torchvision\n",
        "from torchvision.datasets import CIFAR100\n",
        "from torchvision import transforms\n",
        "\n",
        "# PyTorch Lightning\n",
        "try:\n",
        "    import pytorch_lightning as pl\n",
        "except ModuleNotFoundError: # Google Colab does not have PyTorch Lightning installed by default. Hence, we do it here if necessary\n",
        "    !pip install --quiet pytorch-lightning>=1.4\n",
        "    import pytorch_lightning as pl\n",
        "from pytorch_lightning.callbacks import LearningRateMonitor, ModelCheckpoint\n",
        "\n",
        "# Path to the folder where the datasets are/should be downloaded (e.g. CIFAR10)\n",
        "DATASET_PATH = \"drive/MyDrive/deep learning tutorial/data\"\n",
        "# Path to the folder where the pretrained models are saved\n",
        "CHECKPOINT_PATH = \"drive/MyDrive/deep learning tutorial/saved_models/transformer\"\n",
        "\n",
        "# Setting the seed\n",
        "pl.seed_everything(42)\n",
        "\n",
        "# Ensure that all operations are deterministic on GPU (if used) for reproducibility\n",
        "torch.backends.cudnn.deterministic = True\n",
        "torch.backends.cudnn.benchmark = False\n",
        "\n",
        "device = torch.device(\"cuda:0\") if torch.cuda.is_available() else torch.device(\"cpu\")\n",
        "print(\"Device:\", device)\n"
      ],
      "metadata": {
        "colab": {
          "base_uri": "https://localhost:8080/"
        },
        "id": "H57hcIRfzGio",
        "outputId": "da20f14a-0b00-4388-80a8-d74f09b85fef"
      },
      "execution_count": 2,
      "outputs": [
        {
          "output_type": "stream",
          "name": "stderr",
          "text": [
            "Global seed set to 42\n"
          ]
        },
        {
          "output_type": "stream",
          "name": "stdout",
          "text": [
            "Device: cuda:0\n"
          ]
        }
      ]
    },
    {
      "cell_type": "code",
      "source": [
        "import urllib.request\n",
        "from urllib.error import HTTPError\n",
        "# Github URL where saved models are stored for this tutorial\n",
        "base_url = \"https://raw.githubusercontent.com/phlippe/saved_models/main/tutorial6/\"\n",
        "# Files to download\n",
        "pretrained_files = [\"ReverseTask.ckpt\", \"SetAnomalyTask.ckpt\"]\n",
        "\n",
        "# Create checkpoint path if it doesn't exist yet\n",
        "os.makedirs(CHECKPOINT_PATH, exist_ok=True)\n",
        "\n",
        "# For each file, check whether it already exists. If not, try downloading it.\n",
        "for file_name in pretrained_files:\n",
        "    file_path = os.path.join(CHECKPOINT_PATH, file_name)\n",
        "    if \"/\" in file_name:\n",
        "        os.makedirs(file_path.rsplit(\"/\",1)[0], exist_ok=True)\n",
        "    if not os.path.isfile(file_path):\n",
        "        file_url = base_url + file_name\n",
        "        print(f\"Downloading {file_url}...\")\n",
        "        try:\n",
        "            urllib.request.urlretrieve(file_url, file_path)\n",
        "        except HTTPError as e:\n",
        "            print(\"Something went wrong. Please try to download the file from the GDrive folder, or contact the author with the full output including the following error:\\n\", e)"
      ],
      "metadata": {
        "id": "LIGSH1BQzuoQ"
      },
      "execution_count": 3,
      "outputs": []
    },
    {
      "cell_type": "markdown",
      "source": [
        "# Attention"
      ],
      "metadata": {
        "id": "t1UI-ACdz9xS"
      }
    },
    {
      "cell_type": "code",
      "source": [
        "def scaled_dot_product_attention(q,k,v, mask = None):\n",
        "  # q, k, v [batch, num_heads, seq_len, hidden_dim]\n",
        "  hidden_dim = q.size()[-1]\n",
        "  # attn_logits [seq_len, seq_len]\n",
        "  attn_logits = torch.matmul(q,k.transpose(-2,-1)) / math.sqrt(hidden_dim)\n",
        "  if mask is not None:\n",
        "      # mask out padding tokens, fill where mask True with small value\n",
        "      attn_logits = attn_logits.masked_fill(mask == 0, -9e15)\n",
        "  # softmax on each row\n",
        "  attention = F.softmax(attn_logits, dim = -1)\n",
        "  values = torch.matmul(attention, v)\n",
        "\n",
        "  return values , attention\n"
      ],
      "metadata": {
        "id": "KWnW11bcz7iJ"
      },
      "execution_count": 4,
      "outputs": []
    },
    {
      "cell_type": "code",
      "source": [
        "batch, head_num, seq_len, d_k = 2,2,3, 2\n",
        "pl.seed_everything(42)\n",
        "q = torch.randn(batch,head_num, seq_len, d_k)\n",
        "k = torch.randn(batch,head_num, seq_len, d_k)\n",
        "v = torch.randn(batch,head_num, seq_len, d_k)\n",
        "values, attention = scaled_dot_product_attention(q, k, v)\n",
        "print(\"Q\\n\", q)\n",
        "print(\"K\\n\", k)\n",
        "print(\"V\\n\", v)\n",
        "print(\"Values\\n\", values)\n",
        "print(\"Attention\\n\", attention)"
      ],
      "metadata": {
        "colab": {
          "base_uri": "https://localhost:8080/"
        },
        "id": "_jPT__GK2Vxi",
        "outputId": "157776be-dfb7-490a-f6b4-155549c861ed"
      },
      "execution_count": 5,
      "outputs": [
        {
          "output_type": "stream",
          "name": "stderr",
          "text": [
            "Global seed set to 42\n"
          ]
        },
        {
          "output_type": "stream",
          "name": "stdout",
          "text": [
            "Q\n",
            " tensor([[[[ 1.9269,  1.4873],\n",
            "          [ 0.9007, -2.1055],\n",
            "          [ 0.6784, -1.2345]],\n",
            "\n",
            "         [[-0.0431, -1.6047],\n",
            "          [ 0.3559, -0.6866],\n",
            "          [-0.4934,  0.2415]]],\n",
            "\n",
            "\n",
            "        [[[-1.1109,  0.0915],\n",
            "          [-2.3169, -0.2168],\n",
            "          [-0.3097, -0.3957]],\n",
            "\n",
            "         [[ 0.8034, -0.6216],\n",
            "          [-0.5920, -0.0631],\n",
            "          [-0.8286,  0.3309]]]])\n",
            "K\n",
            " tensor([[[[ 0.0349,  0.3211],\n",
            "          [ 1.5736, -0.8455],\n",
            "          [ 1.3123,  0.6872]],\n",
            "\n",
            "         [[-1.0892, -0.3553],\n",
            "          [ 1.4451,  0.8564],\n",
            "          [ 2.2181,  0.5232]]],\n",
            "\n",
            "\n",
            "        [[[ 0.3466, -0.1973],\n",
            "          [-1.0546,  1.2780],\n",
            "          [-0.1722,  0.5238]],\n",
            "\n",
            "         [[ 0.0566,  0.4263],\n",
            "          [ 0.5750, -0.6417],\n",
            "          [-2.2064, -0.7508]]]])\n",
            "V\n",
            " tensor([[[[ 0.0109, -0.3387],\n",
            "          [-1.3407, -0.5854],\n",
            "          [ 0.5362,  0.5246]],\n",
            "\n",
            "         [[ 1.1412,  0.0516],\n",
            "          [-0.6788,  0.5743],\n",
            "          [ 0.1877, -0.3576]]],\n",
            "\n",
            "\n",
            "        [[[-0.3165,  0.5886],\n",
            "          [-0.8905,  0.4098],\n",
            "          [-0.9864,  0.1233]],\n",
            "\n",
            "         [[ 0.3499,  0.6173],\n",
            "          [-0.1693,  0.2332],\n",
            "          [ 4.0356,  1.2795]]]])\n",
            "Values\n",
            " tensor([[[[ 0.1108,  0.2261],\n",
            "          [-1.1224, -0.4880],\n",
            "          [-0.8651, -0.3721]],\n",
            "\n",
            "         [[ 0.6665,  0.0426],\n",
            "          [ 0.1999,  0.0334],\n",
            "          [ 0.4615,  0.1133]]],\n",
            "\n",
            "\n",
            "        [[[-0.8186,  0.3635],\n",
            "          [-0.8566,  0.3716],\n",
            "          [-0.7178,  0.3801]],\n",
            "\n",
            "         [[ 0.5147,  0.4740],\n",
            "          [ 2.4496,  0.9407],\n",
            "          [ 2.6591,  0.9945]]]])\n",
            "Attention\n",
            " tensor([[[[0.0850, 0.2029, 0.7121],\n",
            "          [0.0573, 0.8677, 0.0750],\n",
            "          [0.1230, 0.7122, 0.1649]],\n",
            "\n",
            "         [[0.6378, 0.1493, 0.2129],\n",
            "          [0.2816, 0.2959, 0.4225],\n",
            "          [0.5335, 0.2710, 0.1955]]],\n",
            "\n",
            "\n",
            "        [[[0.1700, 0.5623, 0.2677],\n",
            "          [0.0908, 0.7191, 0.1902],\n",
            "          [0.3552, 0.3195, 0.3253]],\n",
            "\n",
            "         [[0.2770, 0.5946, 0.1285],\n",
            "          [0.2192, 0.1851, 0.5957],\n",
            "          [0.2255, 0.1297, 0.6448]]]])\n"
          ]
        }
      ]
    },
    {
      "cell_type": "markdown",
      "source": [
        "# Multi-Head Attention"
      ],
      "metadata": {
        "id": "ezoXjR4b3LbS"
      }
    },
    {
      "cell_type": "code",
      "source": [
        "class MultiheadAttention(nn.Module):\n",
        "  def __init__(self, input_dim, embed_dim, num_heads):\n",
        "    super().__init__()\n",
        "    assert embed_dim % num_heads == 0, \"embeding dim must num_heads modulo 0\"\n",
        "\n",
        "    # embed_dim is output dim\n",
        "    self.embed_dim = embed_dim\n",
        "    # head_dim is the vector dim for each head\n",
        "    self.head_dim = embed_dim // num_heads\n",
        "\n",
        "    self.num_heads = num_heads\n",
        "    \n",
        "    # linear transform, 3 for W_Q,W_K,W_V\n",
        "    self.qkv_proj = nn.Linear(input_dim, 3*embed_dim) \n",
        "    self.o_proj = nn.Linear(embed_dim, embed_dim)\n",
        "\n",
        "  def init_parameters(self):\n",
        "    # init parameter for W_Q,W_K,W_V\n",
        "    nn.init.xavier_uniform_(self.qkv_proj.weight)\n",
        "    self.qkv_proj.bias.data.fill_(0)\n",
        "\n",
        "    nn.init.xavier_uniform_(self.o_proj.weight)\n",
        "    self.o_proj.bias.data.fill_(0)\n",
        "\n",
        "  def forward(self,x, mask = None, return_attention = False):\n",
        "    batch_size, seq_len, input_dim = x.size()\n",
        "    # qkv [batch_size, seq_len, 3*embed_dim]\n",
        "    qkv = self.qkv_proj(x)\n",
        "\n",
        "    # separate Q,K,V\n",
        "    qkv = qkv.reshape(batch_size, seq_len, self.num_heads, 3*self.head_dim)\n",
        "    # [batch_size, num_heads, seq_len, 3*head_dim]\n",
        "    qkv = qkv.permute(0,2,1,3) \n",
        "    # q [batch_size, num_heads, seq_len, head_dim]\n",
        "    q, k, v = qkv.chunk(3, dim = -1)\n",
        "\n",
        "    # attention\n",
        "    # values = [batch_size, num_heads, seq_len, head_dim]\n",
        "    # attention =  [batch_size, num_heads, seq_len, seq_len]\n",
        "    values, attention = scaled_dot_product_attention(q,k,v, mask = mask)\n",
        "    \n",
        "    # values = [batch_size, seq_len, num_heads, head_dim]\n",
        "    values = values.permute(0,2,1,3)\n",
        "\n",
        "    values = values.reshape(batch_size, seq_len, self.embed_dim)\n",
        "    # output = [batch_size, seq_len, embed_dim]\n",
        "    output = self.o_proj(values)\n",
        "\n",
        "    if return_attention:\n",
        "      return output, attention\n",
        "    else:\n",
        "      return output\n",
        "\n",
        "  \n"
      ],
      "metadata": {
        "id": "fNMGXUQ33PKH"
      },
      "execution_count": 6,
      "outputs": []
    },
    {
      "cell_type": "code",
      "source": [
        "batch_size, seq_len, input_dim = 2,3,2\n",
        "pl.seed_everything(42)\n",
        "x = torch.randn(batch_size, seq_len, input_dim)\n",
        "\n",
        "mua = MultiheadAttention(input_dim = 2,embed_dim = 20,num_heads = 5)\n",
        "output, attention = mua(x,return_attention = True)\n",
        "print(f\"output size: {output.size()}, attentin size: {attention.size()}\")"
      ],
      "metadata": {
        "colab": {
          "base_uri": "https://localhost:8080/"
        },
        "id": "0wzk5L939cbd",
        "outputId": "d49d72c5-8d12-44b1-d203-db3304d2169b"
      },
      "execution_count": 7,
      "outputs": [
        {
          "output_type": "stream",
          "name": "stderr",
          "text": [
            "Global seed set to 42\n"
          ]
        },
        {
          "output_type": "stream",
          "name": "stdout",
          "text": [
            "output size: torch.Size([2, 3, 20]), attentin size: torch.Size([2, 5, 3, 3])\n"
          ]
        }
      ]
    },
    {
      "cell_type": "markdown",
      "source": [
        "# Transformer Encoder"
      ],
      "metadata": {
        "id": "Cf8hFVTFCVr4"
      }
    },
    {
      "cell_type": "code",
      "source": [
        "class TransformerEncoderBlock(nn.Module):\n",
        "  # in embed_dim == input_dim, because we need to add attention value to x \n",
        "  def __init__(self, input_dim, embed_dim, num_heads, dim_feedforward, dropout = 0.0):\n",
        "    super().__init__()\n",
        "\n",
        "    # attention layer\n",
        "    self.self_attn = MultiheadAttention(input_dim = input_dim,embed_dim = embed_dim,num_heads = num_heads)\n",
        "\n",
        "    # Feed Forward net\n",
        "    self.linear_net = nn.Sequential(\n",
        "        nn.Linear(embed_dim,dim_feedforward),\n",
        "        nn.Dropout(dropout),\n",
        "        nn.ReLU(inplace =True),\n",
        "        nn.Linear(dim_feedforward, embed_dim)\n",
        "    )\n",
        "    # Layer norm\n",
        "    self.norm1 = nn.LayerNorm(input_dim)\n",
        "    self.norm2 = nn.LayerNorm(input_dim)\n",
        "    self.dropout = nn.Dropout(dropout)\n",
        "\n",
        "  def forward(self, x, mask = None):\n",
        "    # attention, resnet like add and layer norm\n",
        "    attn_out = self.self_attn(x, mask = mask)\n",
        "    x = x + self.dropout(attn_out)\n",
        "    x = self.norm1(x)\n",
        "\n",
        "    # FFN\n",
        "    ffn_out = self.linear_net(x)\n",
        "    x = x + self.dropout(ffn_out)\n",
        "    x = self.norm2(x)\n",
        "\n",
        "    return x \n"
      ],
      "metadata": {
        "id": "vqxUIi2TCy4C"
      },
      "execution_count": 8,
      "outputs": []
    },
    {
      "cell_type": "code",
      "source": [
        "class TransformerEncoder(nn.Module):\n",
        "  def __init__(self, num_layers, **block_args):\n",
        "    # num_layers: how many Encoder block, **block_args collect kwargs for each block\n",
        "    super().__init__()\n",
        "    self.layers = nn.ModuleList([TransformerEncoderBlock(**block_args) for _ in range(num_layers)])\n",
        "\n",
        "  def forward(self, x, mask = None):\n",
        "    for l in self.layers:\n",
        "      x = l(x, mask = mask)\n",
        "    return x\n",
        "  def get_attention(self, x, mask = None):\n",
        "    attentions = []\n",
        "    for l in self.layers:\n",
        "      _,attention = l.self_attn(x, mask = mask, return_attention = True)\n",
        "      attentions.append(attention)\n",
        "      x = l(x, mask = mask)\n",
        "      return attentions"
      ],
      "metadata": {
        "id": "HOoRfDgiG48G"
      },
      "execution_count": 9,
      "outputs": []
    },
    {
      "cell_type": "markdown",
      "source": [
        "# Positional Encoding"
      ],
      "metadata": {
        "id": "oyxRqm0KJJZF"
      }
    },
    {
      "cell_type": "code",
      "source": [
        "class PositionEncoding(nn.Module):\n",
        "  def __init__(self, d_model, max_len = 5000):\n",
        "    super().__init__()\n",
        "\n",
        "    # Create matrix of [SeqLen, HiddenDim] representing the positional encoding for max_len inputs\n",
        "    pe = torch.zeros(max_len, d_model)\n",
        "    position = torch.arange(0, max_len, dtype=torch.float).unsqueeze(1)\n",
        "    div_term = torch.exp(torch.arange(0, d_model, 2).float() * (-math.log(10000.0) / d_model))\n",
        "    pe[:, 0::2] = torch.sin(position * div_term)\n",
        "    pe[:, 1::2] = torch.cos(position * div_term)\n",
        "    pe = pe.unsqueeze(0)\n",
        "\n",
        "    self.register_buffer('pe', pe, persistent=False)\n",
        "\n",
        "  def forward(self, x):\n",
        "    # get the seq_len according to input x\n",
        "    x = x + self.pe[:,:x.size(1)]\n",
        "    return x\n",
        "\n",
        "    "
      ],
      "metadata": {
        "id": "WzzxcQVKJO86"
      },
      "execution_count": 10,
      "outputs": []
    },
    {
      "cell_type": "markdown",
      "source": [
        "# Lr Warm-up\n"
      ],
      "metadata": {
        "id": "OTd-KXtDfWHe"
      }
    },
    {
      "cell_type": "code",
      "source": [
        "class CosineWarmupScheduler(optim.lr_scheduler._LRScheduler):\n",
        "\n",
        "    def __init__(self, optimizer, warmup, max_iters):\n",
        "        self.warmup = warmup\n",
        "        self.max_num_iters = max_iters\n",
        "        super().__init__(optimizer)\n",
        "\n",
        "    def get_lr(self):\n",
        "        lr_factor = self.get_lr_factor(epoch=self.last_epoch)\n",
        "        return [base_lr * lr_factor for base_lr in self.base_lrs]\n",
        "\n",
        "    def get_lr_factor(self, epoch):\n",
        "        lr_factor = 0.5 * (1 + np.cos(np.pi * epoch / self.max_num_iters))\n",
        "        if epoch <= self.warmup:\n",
        "            lr_factor *= epoch * 1.0 / self.warmup\n",
        "        return lr_factor"
      ],
      "metadata": {
        "id": "F0d9mcMmfc0i"
      },
      "execution_count": 11,
      "outputs": []
    },
    {
      "cell_type": "markdown",
      "source": [
        "# Pytorch Lightning"
      ],
      "metadata": {
        "id": "i2r11wdqgW5a"
      }
    },
    {
      "cell_type": "code",
      "source": [
        "class Transformer(pl.LightningModule):\n",
        "  def __init__(self, input_dim, model_dim, num_layers, num_heads, num_classes, lr, warmup, max_iters, dropout = 0.0, input_dropout = 0.0):\n",
        "    super().__init__()\n",
        "    # save all hypar parameters to namespace of hparams.\n",
        "    self.save_hyperparameters()\n",
        "    self._create_model()\n",
        "    \n",
        "  def _create_model(self):\n",
        "    self.input_net = nn.Sequential(\n",
        "        nn.Dropout(self.hparams.input_dropout),\n",
        "        nn.Linear(self.hparams.input_dim , self.hparams.model_dim)\n",
        "    )\n",
        "\n",
        "    self.position_encoding = PositionEncoding(d_model = self.hparams.model_dim)\n",
        "\n",
        "    self.transformer = TransformerEncoder(num_layers = self.hparams.num_layers,\n",
        "                                          input_dim = self.hparams.model_dim,\n",
        "                                          embed_dim = self.hparams.model_dim,\n",
        "                                          num_heads = self.hparams.num_heads,\n",
        "                                          dim_feedforward = 2*self.hparams.model_dim,\n",
        "                                          dropout = self.hparams.dropout)\n",
        "    \n",
        "    self.output_net = nn.Sequential(\n",
        "        nn.Linear(self.hparams.model_dim, self.hparams.model_dim),\n",
        "        nn.LayerNorm(self.hparams.model_dim),\n",
        "        nn.ReLU(inplace = True),\n",
        "        nn.Dropout(self.hparams.dropout),\n",
        "        nn.Linear(self.hparams.model_dim, self.hparams.num_classes)\n",
        "\n",
        "    )\n",
        "\n",
        "  def forward(self, x, mask = None, add_positional_encoding = True):\n",
        "    # x size: [batch_size, seq_len, input_dim]\n",
        "    x = self.input_net(x)\n",
        "    if add_positional_encoding:\n",
        "      x = self.position_encoding(x)\n",
        "    x = self.transformer(x, mask = mask)\n",
        "    x = self.output_net(x)\n",
        "    return x\n",
        "\n",
        "  def configure_optimizers(self):\n",
        "    optimizer = optim.Adam(self.parameters(), lr = self.hparams.lr)\n",
        "\n",
        "    lr_scheduler = CosineWarmupScheduler(optimizer, warmup = self.hparams.warmup, max_iters = self.hparams.max_iters)\n",
        "\n",
        "    return [optimizer], [{'scheduler': lr_scheduler, 'interval':'step'}]\n",
        "\n",
        "  def training_step(self, batch, batch_idx):\n",
        "    raise NotImplementedError\n",
        "\n",
        "  def validation_step(self, batch, batch_idx):\n",
        "    raise NotImplementedError\n",
        "\n",
        "  def test_step(self, batch, batch_idx):\n",
        "    raise NotImplementedError\n"
      ],
      "metadata": {
        "id": "a4AQ9Xg2geEd"
      },
      "execution_count": 12,
      "outputs": []
    },
    {
      "cell_type": "markdown",
      "source": [
        "# Task"
      ],
      "metadata": {
        "id": "wQWaHdPcXMcY"
      }
    },
    {
      "cell_type": "markdown",
      "source": [
        "## Task1: Sequence to Sequence"
      ],
      "metadata": {
        "id": "t9rKSsLMXPHS"
      }
    },
    {
      "cell_type": "markdown",
      "source": [
        "### Dataset "
      ],
      "metadata": {
        "id": "VBCBPvApoech"
      }
    },
    {
      "cell_type": "code",
      "source": [
        "class ReverseDataset(data.Dataset):\n",
        "  def __init__(self, num_classes, seq_len, size):\n",
        "    super().__init__()\n",
        "    self.num_classes = num_classes\n",
        "    self.seq_len = seq_len\n",
        "    self.size = size\n",
        "    \n",
        "    # data int number between 0 - 9 \n",
        "    self.data = torch.randint(low =0, high = self.num_classes, size = (self.size, self.seq_len))\n",
        "\n",
        "  def __len__(self):\n",
        "    return self.size\n",
        "\n",
        "  def __getitem__(self, idx):\n",
        "    data = self.data[idx]\n",
        "    label = torch.flip(data, dims = (0,))\n",
        "    return data, label"
      ],
      "metadata": {
        "id": "cvE6djZkXKbh"
      },
      "execution_count": 13,
      "outputs": []
    },
    {
      "cell_type": "code",
      "source": [
        "# partial create a new function with some args fixed\n",
        "dataset = partial(ReverseDataset, num_classes = 10, seq_len = 16)\n",
        "\n",
        "train_loader = data.DataLoader(dataset(size = 50000), batch_size = 128, shuffle = True, drop_last = True, pin_memory = True)\n",
        "val_loader = data.DataLoader(dataset(size = 1000), batch_size = 128)\n",
        "test_loader = data.DataLoader(dataset(size = 10000), batch_size = 128)\n",
        "\n",
        "thedata, label = train_loader.dataset[0]\n",
        "print(f\"data  = {thedata},\\nlabel = {label}\")\n"
      ],
      "metadata": {
        "colab": {
          "base_uri": "https://localhost:8080/"
        },
        "id": "DwgKPoQkZFhY",
        "outputId": "673fedf6-766b-4fc7-d60d-d7e44ef6efeb"
      },
      "execution_count": 14,
      "outputs": [
        {
          "output_type": "stream",
          "name": "stdout",
          "text": [
            "data  = tensor([2, 7, 6, 9, 6, 0, 0, 5, 0, 4, 3, 9, 8, 6, 7, 9]),\n",
            "label = tensor([9, 7, 6, 8, 9, 3, 4, 0, 5, 0, 0, 6, 9, 6, 7, 2])\n"
          ]
        }
      ]
    },
    {
      "cell_type": "markdown",
      "source": [
        "### Pytorch Lightning module for reverse sequence"
      ],
      "metadata": {
        "id": "0wwwtTx8nmjU"
      }
    },
    {
      "cell_type": "code",
      "source": [
        "class ReverseTransformer(Transformer):\n",
        "  def _calculate_loss(self,batch, mode = \"train\"):\n",
        "    # X, y size [batch_size, seq_len]\n",
        "    X, y = batch\n",
        "    # X [batch_size, seq_len, input_dim]\n",
        "    X = F.one_hot(X, num_classes = self.hparams.num_classes).float()\n",
        "    # preds [batch_size, seq_len, num_classes]\n",
        "    preds = self.forward(X, add_positional_encoding=True)\n",
        "\n",
        "    # preds [batch_size* seq_len, num_classes] y [batch_size*seq_len ,1]\n",
        "    loss = F.cross_entropy(preds.view(-1,preds.size(-1)),y.view(-1))\n",
        "\n",
        "    acc = (preds.argmax(dim = -1) == y).float().mean()\n",
        "\n",
        "    #logging\n",
        "    self.log(f\"{mode}_loss\",loss)\n",
        "    self.log(f\"{mode}_acc\",acc)\n",
        "    return loss, acc\n",
        "\n",
        "  def training_step(self,batch, batch_idx):\n",
        "    loss, _ = self._calculate_loss(batch)\n",
        "    return loss\n",
        "\n",
        "  def validation_step(self,batch, batch_idx):\n",
        "      _ , _ = self._calculate_loss(batch, mode = \"val\")\n",
        "\n",
        "  def test_step(self,batch, batch_idx):\n",
        "      _ , _ = self._calculate_loss(batch, mode = \"test\")\n",
        "\n",
        "  \n"
      ],
      "metadata": {
        "id": "Rr7nUJFylKEA"
      },
      "execution_count": 15,
      "outputs": []
    },
    {
      "cell_type": "markdown",
      "source": [
        "### Trainer"
      ],
      "metadata": {
        "id": "U2DOuUNvok98"
      }
    },
    {
      "cell_type": "code",
      "source": [
        "def train_reverse_transformer(**kwargs):\n",
        "  # Create a PyTorch Lightning trainer with the generation callback\n",
        "  root_dir = os.path.join(CHECKPOINT_PATH, \"ReverseTask\")\n",
        "  os.makedirs(root_dir, exist_ok=True)\n",
        "  trainer = pl.Trainer(default_root_dir=root_dir,\n",
        "                      callbacks=[ModelCheckpoint(save_weights_only=True, mode=\"max\", monitor=\"val_acc\")],\n",
        "                      gpus=1 if str(device).startswith(\"cuda\") else 0,\n",
        "                      max_epochs=10,\n",
        "                      gradient_clip_val=5,\n",
        "                      progress_bar_refresh_rate=1)\n",
        "  trainer.logger._default_hp_metric = None # Optional logging argument that we don't need\n",
        "\n",
        "  # Check whether pretrained model exists. If yes, load it and skip training\n",
        "  pretrained_filename = os.path.join(CHECKPOINT_PATH, \"ReverseTask.ckpt\")\n",
        "  if os.path.isfile(pretrained_filename):\n",
        "      print(\"Found pretrained model, loading...\")\n",
        "      model = ReverseTransformer.load_from_checkpoint(pretrained_filename)\n",
        "  else:\n",
        "      model = ReverseTransformer(max_iters=trainer.max_epochs*len(train_loader), **kwargs)\n",
        "      trainer.fit(model, train_loader, val_loader)\n",
        "\n",
        "  # Test best model on validation and test set\n",
        "  val_result = trainer.test(model, val_loader, verbose=False)\n",
        "  test_result = trainer.test(model, test_loader, verbose=False)\n",
        "  result = {\"test_acc\": test_result[0][\"test_acc\"], \"val_acc\": val_result[0][\"test_acc\"]}\n",
        "\n",
        "  model = model.to(device)\n",
        "  return model, result"
      ],
      "metadata": {
        "id": "aJpgaBssoc3H"
      },
      "execution_count": 16,
      "outputs": []
    },
    {
      "cell_type": "code",
      "source": [
        "reverse_model, reverse_result = train_reverse_transformer(input_dim=train_loader.dataset.num_classes,\n",
        "                                              model_dim=32,\n",
        "                                              num_heads=1,\n",
        "                                              num_classes=train_loader.dataset.num_classes,\n",
        "                                              num_layers=1,\n",
        "                                              dropout=0.0,\n",
        "                                              lr=5e-4,\n",
        "                                              warmup=50)"
      ],
      "metadata": {
        "colab": {
          "base_uri": "https://localhost:8080/",
          "height": 254,
          "referenced_widgets": [
            "d703e2504721420e9de1b0a2c4a341d3",
            "9e14cb6cd41749d085d4cf944fa0645c",
            "99ca9377d643403f94d0a71473d97615",
            "86a0ae5bf62d4cfe9155b7e40f53ea92",
            "6901a6f36d244634913a2184efbd735c",
            "41ebeba91abc4bd2ae0e788154c30771",
            "5a18f2afac224aeb86817c725cb3cf1d",
            "3751f6fd281f499bac324d7aa1e3a241",
            "46b1ada2ec7a4422bba0fa380b337c96",
            "41071d3f3c97475e814e90af816b6a76",
            "5c7989e2f9f3449a940ee640d526f313",
            "af266237efa3461985005fb4988d1bd9",
            "090257b146614cd6831ddf96d8c59218",
            "6743f92f1072425ebf2a98adab713efb",
            "285bccbdc9aa44ce815c326e0b621b44",
            "96dc6b762b4040fb80f2e996a074113c",
            "124e2663c162403397ff4d987251abc8",
            "31cc57926d5c403bb37b86be22e901b3",
            "c7e2c28ff69f43f8bd597cf22ded3daa",
            "3d5b86d74e7141ad99c0d99a974d3cda",
            "4ec61f111a7c423081e7adc6f5155583",
            "a723fa820dac444989da2309302b472f"
          ]
        },
        "id": "rEsU04YkpwrR",
        "outputId": "5f76883c-80aa-4e23-d7ed-6df8374195d2"
      },
      "execution_count": 17,
      "outputs": [
        {
          "output_type": "stream",
          "name": "stderr",
          "text": [
            "/usr/local/lib/python3.7/dist-packages/pytorch_lightning/trainer/connectors/callback_connector.py:97: LightningDeprecationWarning: Setting `Trainer(progress_bar_refresh_rate=1)` is deprecated in v1.5 and will be removed in v1.7. Please pass `pytorch_lightning.callbacks.progress.TQDMProgressBar` with `refresh_rate` directly to the Trainer's `callbacks` argument instead. Or, to disable the progress bar pass `enable_progress_bar = False` to the Trainer.\n",
            "  f\"Setting `Trainer(progress_bar_refresh_rate={progress_bar_refresh_rate})` is deprecated in v1.5 and\"\n",
            "GPU available: True, used: True\n",
            "TPU available: False, using: 0 TPU cores\n",
            "IPU available: False, using: 0 IPUs\n",
            "HPU available: False, using: 0 HPUs\n"
          ]
        },
        {
          "output_type": "stream",
          "name": "stdout",
          "text": [
            "Found pretrained model, loading...\n"
          ]
        },
        {
          "output_type": "stream",
          "name": "stderr",
          "text": [
            "LOCAL_RANK: 0 - CUDA_VISIBLE_DEVICES: [0]\n"
          ]
        },
        {
          "output_type": "display_data",
          "data": {
            "text/plain": [
              "Testing: 0it [00:00, ?it/s]"
            ],
            "application/vnd.jupyter.widget-view+json": {
              "version_major": 2,
              "version_minor": 0,
              "model_id": "d703e2504721420e9de1b0a2c4a341d3"
            }
          },
          "metadata": {}
        },
        {
          "output_type": "stream",
          "name": "stderr",
          "text": [
            "LOCAL_RANK: 0 - CUDA_VISIBLE_DEVICES: [0]\n"
          ]
        },
        {
          "output_type": "display_data",
          "data": {
            "text/plain": [
              "Testing: 0it [00:00, ?it/s]"
            ],
            "application/vnd.jupyter.widget-view+json": {
              "version_major": 2,
              "version_minor": 0,
              "model_id": "af266237efa3461985005fb4988d1bd9"
            }
          },
          "metadata": {}
        }
      ]
    },
    {
      "cell_type": "code",
      "source": [
        "print(f\"Val accuracy:  {(100.0 * reverse_result['val_acc']):4.2f}%\")\n",
        "print(f\"Test accuracy:  {(100.0 * reverse_result['test_acc']):4.2f}%\")"
      ],
      "metadata": {
        "colab": {
          "base_uri": "https://localhost:8080/"
        },
        "id": "BYomV-e1suwM",
        "outputId": "965667ad-7fc0-4626-89b0-2b6ae696b8bc"
      },
      "execution_count": 18,
      "outputs": [
        {
          "output_type": "stream",
          "name": "stdout",
          "text": [
            "Val accuracy:  100.00%\n",
            "Test accuracy:  100.00%\n"
          ]
        }
      ]
    },
    {
      "cell_type": "markdown",
      "source": [
        "## Set Anomaly Detection"
      ],
      "metadata": {
        "id": "iWiFtnchwJVL"
      }
    },
    {
      "cell_type": "markdown",
      "source": [
        "### Dataset"
      ],
      "metadata": {
        "id": "vcc7xKkliDCh"
      }
    },
    {
      "cell_type": "code",
      "source": [
        "train_set = CIFAR100(root = DATASET_PATH, train = True, download = True)\n",
        "\n",
        "print(train_set.data.shape)\n",
        "mean = (train_set.data / 255.0).mean(axis = (0,1,2))\n",
        "print(mean)\n",
        "\n",
        "std = (train_set.data / 255.0).std(axis = (0,1,2))\n",
        "print(std)"
      ],
      "metadata": {
        "colab": {
          "base_uri": "https://localhost:8080/"
        },
        "id": "gM-ltiF6e0nZ",
        "outputId": "318a7aee-9ba3-48bd-9ef8-f9ffb6f79524"
      },
      "execution_count": 19,
      "outputs": [
        {
          "output_type": "stream",
          "name": "stdout",
          "text": [
            "Files already downloaded and verified\n",
            "(50000, 32, 32, 3)\n",
            "[0.50707516 0.48654887 0.44091784]\n",
            "[0.26733429 0.25643846 0.27615047]\n"
          ]
        }
      ]
    },
    {
      "cell_type": "code",
      "source": [
        "data_mean = torch.from_numpy(np.array(mean)).view(1,3,1,1)\n",
        "data_std = torch.from_numpy(np.array(std)).view(1,3,1,1)\n",
        "\n",
        "# Resize to 224x224, and normalize to ImageNet statistic\n",
        "transform = transforms.Compose([transforms.Resize((224,224)),\n",
        "                                transforms.ToTensor(),\n",
        "                                transforms.Normalize(mean, std)\n",
        "                                ])\n",
        "# Loading the training dataset.\n",
        "train_set = CIFAR100(root=DATASET_PATH, train=True, transform=transform, download=True)\n",
        "\n",
        "# Loading the test set\n",
        "test_set = CIFAR100(root=DATASET_PATH, train=False, transform=transform, download=True)"
      ],
      "metadata": {
        "colab": {
          "base_uri": "https://localhost:8080/"
        },
        "id": "ohBdubzwhoJe",
        "outputId": "f31e085d-41bc-4031-a530-fb460323311b"
      },
      "execution_count": 20,
      "outputs": [
        {
          "output_type": "stream",
          "name": "stdout",
          "text": [
            "Files already downloaded and verified\n",
            "Files already downloaded and verified\n"
          ]
        }
      ]
    },
    {
      "cell_type": "markdown",
      "source": [
        "### Pretrained ResNet"
      ],
      "metadata": {
        "id": "3iALpm4GiGO9"
      }
    },
    {
      "cell_type": "code",
      "source": [
        "import os\n",
        "os.environ[\"TORCH_HOME\"] = CHECKPOINT_PATH\n",
        "pretrained_model = torchvision.models.resnet34(pretrained=True)\n",
        "\n",
        "# set fc or classifier to empty, remove classifier\n",
        "pretrained_model.fc = nn.Sequential()\n",
        "pretrained_model.classifier = nn.Sequential()\n",
        "# To GPU\n",
        "pretrained_model = pretrained_model.to(device)\n",
        "\n",
        "# Only eval, no gradient required\n",
        "pretrained_model.eval()\n",
        "for p in pretrained_model.parameters():\n",
        "    p.requires_grad = False"
      ],
      "metadata": {
        "colab": {
          "base_uri": "https://localhost:8080/"
        },
        "id": "8rtgnxpmiA7c",
        "outputId": "b65a092a-29ff-465e-fb6f-8faceeb2503f"
      },
      "execution_count": 21,
      "outputs": [
        {
          "output_type": "stream",
          "name": "stderr",
          "text": [
            "/usr/local/lib/python3.7/dist-packages/torchvision/models/_utils.py:209: UserWarning: The parameter 'pretrained' is deprecated since 0.13 and will be removed in 0.15, please use 'weights' instead.\n",
            "  f\"The parameter '{pretrained_param}' is deprecated since 0.13 and will be removed in 0.15, \"\n",
            "/usr/local/lib/python3.7/dist-packages/torchvision/models/_utils.py:223: UserWarning: Arguments other than a weight enum or `None` for 'weights' are deprecated since 0.13 and will be removed in 0.15. The current behavior is equivalent to passing `weights=ResNet34_Weights.IMAGENET1K_V1`. You can also use `weights=ResNet34_Weights.DEFAULT` to get the most up-to-date weights.\n",
            "  warnings.warn(msg)\n"
          ]
        }
      ]
    },
    {
      "cell_type": "code",
      "source": [
        "data_loader = data.DataLoader(train_set, batch_size = 128, shuffle = False, drop_last = False, num_workers = 4)\n",
        "X,y = next(iter(data_loader))\n",
        "print(X.shape)\n",
        "print(len(y))"
      ],
      "metadata": {
        "colab": {
          "base_uri": "https://localhost:8080/"
        },
        "id": "o4Eaxqs71uab",
        "outputId": "0d07d5ea-8134-4e90-f094-2a1e967f24bd"
      },
      "execution_count": 22,
      "outputs": [
        {
          "output_type": "stream",
          "name": "stderr",
          "text": [
            "/usr/local/lib/python3.7/dist-packages/torch/utils/data/dataloader.py:560: UserWarning: This DataLoader will create 4 worker processes in total. Our suggested max number of worker in current system is 2, which is smaller than what this DataLoader is going to create. Please be aware that excessive worker creation might get DataLoader running slow or even freeze, lower the worker number to avoid potential slowness/freeze if necessary.\n",
            "  cpuset_checked))\n"
          ]
        },
        {
          "output_type": "stream",
          "name": "stdout",
          "text": [
            "torch.Size([128, 3, 224, 224])\n",
            "128\n"
          ]
        }
      ]
    },
    {
      "cell_type": "code",
      "source": [
        "@torch.no_grad()\n",
        "def extract_features(dataset, save_file):\n",
        "  if not os.path.isfile(save_file):\n",
        "    data_loader = data.DataLoader(dataset, batch_size = 128, shuffle = False, drop_last = False, num_workers = 4)\n",
        "    features = []\n",
        "    # for each batch imgs: [128, 3, 244, 244]\n",
        "    for imgs, _ in tqdm(data_loader):\n",
        "      imgs = imgs.to(device)\n",
        "      feature = pretrained_model(imgs)\n",
        "      features.append(feature)\n",
        "    # features size [img_total_num, feature_dim]\n",
        "    features = torch.cat(features, dim = 0)\n",
        "    # detach from graph, no need gradient\n",
        "    features = features.detach().cpu()\n",
        "    torch.save(features, save_file)\n",
        "  else:\n",
        "    features = torch.load(save_file)\n",
        "  \n",
        "  return features\n",
        "\n",
        "train_feat_file = os.path.join(CHECKPOINT_PATH, \"train_set_features.tar\")\n",
        "train_set_feats = extract_features(train_set, train_feat_file)\n",
        "\n",
        "test_feat_file = os.path.join(CHECKPOINT_PATH, \"test_set_features.tar\")\n",
        "test_feats = extract_features(test_set, test_feat_file)\n",
        "\n"
      ],
      "metadata": {
        "id": "mWuARZvTumyi"
      },
      "execution_count": 23,
      "outputs": []
    },
    {
      "cell_type": "code",
      "source": [
        "print(train_set_feats.shape)\n",
        "print(test_feats.shape)"
      ],
      "metadata": {
        "colab": {
          "base_uri": "https://localhost:8080/"
        },
        "id": "daHsju5z6BDU",
        "outputId": "5c82584d-4b70-4384-fb85-58eadbc84afa"
      },
      "execution_count": 24,
      "outputs": [
        {
          "output_type": "stream",
          "name": "stdout",
          "text": [
            "torch.Size([50000, 512])\n",
            "torch.Size([10000, 512])\n"
          ]
        }
      ]
    },
    {
      "cell_type": "code",
      "source": [
        "l = torch.tensor([2,2,3,1,4,6])\n",
        "print(l)\n",
        "# argsort is the sort indices\n",
        "print(torch.argsort(l))"
      ],
      "metadata": {
        "colab": {
          "base_uri": "https://localhost:8080/"
        },
        "id": "neZuCSaN9fDs",
        "outputId": "73042d3c-4bd7-41c1-ec02-bbcfe04f1b93"
      },
      "execution_count": 25,
      "outputs": [
        {
          "output_type": "stream",
          "name": "stdout",
          "text": [
            "tensor([2, 2, 3, 1, 4, 6])\n",
            "tensor([3, 0, 1, 2, 4, 5])\n"
          ]
        }
      ]
    },
    {
      "cell_type": "code",
      "source": [
        "## Split train into train+val, validation set have images for 100 labels. Balanced\n",
        "# Get labels from train set\n",
        "labels = train_set.targets\n",
        "\n",
        "# Get indices of images per class\n",
        "labels = torch.LongTensor(labels)\n",
        "num_labels = labels.max()+1\n",
        "sorted_indices = torch.argsort(labels).reshape(num_labels, -1) # [classes, num_imgs per class]\n",
        "print(sorted_indices.shape) # [100, 500]\n",
        "\n",
        "# Determine number of validation images per class\n",
        "num_val_exmps = sorted_indices.shape[1] // 10\n",
        "\n",
        "# Get image indices for validation and training\n",
        "val_indices   = sorted_indices[:,:num_val_exmps].reshape(-1)\n",
        "train_indices = sorted_indices[:,num_val_exmps:].reshape(-1)\n",
        "\n",
        "# Group corresponding image features and labels\n",
        "train_feats, train_labels = train_set_feats[train_indices], labels[train_indices]\n",
        "val_feats,   val_labels   = train_set_feats[val_indices],   labels[val_indices]"
      ],
      "metadata": {
        "colab": {
          "base_uri": "https://localhost:8080/"
        },
        "id": "YW9xG5SB_gHO",
        "outputId": "699d70f9-c1ac-40d0-c0b5-267490b767e9"
      },
      "execution_count": 26,
      "outputs": [
        {
          "output_type": "stream",
          "name": "stdout",
          "text": [
            "torch.Size([100, 500])\n"
          ]
        }
      ]
    },
    {
      "cell_type": "markdown",
      "source": [
        "### Anomaly Dataset"
      ],
      "metadata": {
        "id": "ZQuR4-2uBoR7"
      }
    },
    {
      "cell_type": "code",
      "source": [
        "class SetAnomalyDataset(data.Dataset):\n",
        "\n",
        "    def __init__(self, img_feats, labels, set_size=10, train=True):\n",
        "        \"\"\"\n",
        "        Inputs:\n",
        "            img_feats - Tensor of shape [num_imgs, img_dim]. Represents the high-level features.\n",
        "            labels - Tensor of shape [num_imgs], containing the class labels for the images\n",
        "            set_size - Number of elements in a set. N-1 are sampled from one class, and one from another one.\n",
        "            train - If True, a new set will be sampled every time __getitem__ is called.\n",
        "        \"\"\"\n",
        "        super().__init__()\n",
        "        self.img_feats = img_feats\n",
        "        self.labels = labels\n",
        "        self.set_size = set_size-1 # The set size is here the size of correct images\n",
        "        self.train = train\n",
        "\n",
        "        # Tensors with indices of the images per class\n",
        "        self.num_labels = labels.max()+1\n",
        "        self.img_idx_by_label = torch.argsort(self.labels).reshape(self.num_labels, -1)\n",
        "\n",
        "        if not train:\n",
        "            self.test_sets = self._create_test_sets()\n",
        "\n",
        "\n",
        "    def _create_test_sets(self):\n",
        "        # Pre-generates the sets for each image for the test set\n",
        "        test_sets = []\n",
        "        num_imgs = self.img_feats.shape[0]\n",
        "        np.random.seed(42)\n",
        "        test_sets = [self.sample_img_set(self.labels[idx]) for idx in range(num_imgs)]\n",
        "        test_sets = torch.stack(test_sets, dim=0)\n",
        "        return test_sets\n",
        "\n",
        "\n",
        "    def sample_img_set(self, anomaly_label):\n",
        "        \"\"\"\n",
        "        Samples a new set of images, given the label of the anomaly.\n",
        "        The sampled images come from a different class than anomaly_label\n",
        "        \"\"\"\n",
        "        # Sample class from 0,...,num_classes-1 while skipping anomaly_label as class\n",
        "        set_label = np.random.randint(self.num_labels-1)\n",
        "        if set_label >= anomaly_label:\n",
        "            set_label += 1\n",
        "\n",
        "        # Sample images from the class determined above\n",
        "        img_indices = np.random.choice(self.img_idx_by_label.shape[1], size=self.set_size, replace=False)\n",
        "        img_indices = self.img_idx_by_label[set_label, img_indices]\n",
        "        return img_indices\n",
        "\n",
        "\n",
        "    def __len__(self):\n",
        "        return self.img_feats.shape[0]\n",
        "\n",
        "\n",
        "    def __getitem__(self, idx):\n",
        "        anomaly = self.img_feats[idx]\n",
        "        if self.train: # If train => sample\n",
        "            img_indices = self.sample_img_set(self.labels[idx])\n",
        "        else: # If test => use pre-generated ones\n",
        "            img_indices = self.test_sets[idx]\n",
        "\n",
        "        # Concatenate images. The anomaly is always the last image for simplicity\n",
        "        img_set = torch.cat([self.img_feats[img_indices], anomaly[None]], dim=0)\n",
        "        indices = torch.cat([img_indices, torch.LongTensor([idx])], dim=0)\n",
        "        label = img_set.shape[0]-1\n",
        "\n",
        "        # We return the indices of the images for visualization purpose. \"Label\" is the index of the anomaly\n",
        "        return img_set, indices, label"
      ],
      "metadata": {
        "id": "sWP4mR6lBunb"
      },
      "execution_count": 27,
      "outputs": []
    },
    {
      "cell_type": "code",
      "source": [
        "SET_SIZE = 10\n",
        "test_labels = torch.LongTensor(test_set.targets)\n",
        "\n",
        "train_anom_dataset = SetAnomalyDataset(train_feats, train_labels, set_size=SET_SIZE, train=True)\n",
        "val_anom_dataset   = SetAnomalyDataset(val_feats,   val_labels,   set_size=SET_SIZE, train=False)\n",
        "test_anom_dataset  = SetAnomalyDataset(test_feats,  test_labels,  set_size=SET_SIZE, train=False)\n",
        "\n",
        "train_anom_loader = data.DataLoader(train_anom_dataset, batch_size=64, shuffle=True,  drop_last=True,  num_workers=4, pin_memory=True)\n",
        "val_anom_loader   = data.DataLoader(val_anom_dataset,   batch_size=64, shuffle=False, drop_last=False, num_workers=4)\n",
        "test_anom_loader  = data.DataLoader(test_anom_dataset,  batch_size=64, shuffle=False, drop_last=False, num_workers=4)"
      ],
      "metadata": {
        "colab": {
          "base_uri": "https://localhost:8080/"
        },
        "id": "CjmufaCOImkj",
        "outputId": "5b9d93a8-b172-457c-952c-694eb33245b3"
      },
      "execution_count": 28,
      "outputs": [
        {
          "output_type": "stream",
          "name": "stderr",
          "text": [
            "/usr/local/lib/python3.7/dist-packages/torch/utils/data/dataloader.py:560: UserWarning: This DataLoader will create 4 worker processes in total. Our suggested max number of worker in current system is 2, which is smaller than what this DataLoader is going to create. Please be aware that excessive worker creation might get DataLoader running slow or even freeze, lower the worker number to avoid potential slowness/freeze if necessary.\n",
            "  cpuset_checked))\n"
          ]
        }
      ]
    },
    {
      "cell_type": "code",
      "source": [
        "img_set, indices, label = next(iter(train_anom_loader))\n",
        "print(img_set.shape)\n",
        "print(label.shape)"
      ],
      "metadata": {
        "colab": {
          "base_uri": "https://localhost:8080/"
        },
        "id": "tRwsE1OjIziR",
        "outputId": "98cc4472-b8bd-49d8-f53f-5632172fec43"
      },
      "execution_count": 29,
      "outputs": [
        {
          "output_type": "stream",
          "name": "stderr",
          "text": [
            "/usr/local/lib/python3.7/dist-packages/torch/utils/data/dataloader.py:560: UserWarning: This DataLoader will create 4 worker processes in total. Our suggested max number of worker in current system is 2, which is smaller than what this DataLoader is going to create. Please be aware that excessive worker creation might get DataLoader running slow or even freeze, lower the worker number to avoid potential slowness/freeze if necessary.\n",
            "  cpuset_checked))\n"
          ]
        },
        {
          "output_type": "stream",
          "name": "stdout",
          "text": [
            "torch.Size([64, 10, 512])\n",
            "torch.Size([64])\n"
          ]
        }
      ]
    },
    {
      "cell_type": "code",
      "source": [
        "class AnomalyPredictor(Transformer):\n",
        "\n",
        "    def _calculate_loss(self, batch, mode=\"train\"):\n",
        "        img_sets, _, labels = batch\n",
        "        preds = self.forward(img_sets, add_positional_encoding=False) # No positional encodings as it is a set, not a sequence!\n",
        "        preds = preds.squeeze(dim=-1) # Shape: [Batch_size, set_size]\n",
        "        loss = F.cross_entropy(preds, labels) # Softmax/CE over set dimension\n",
        "        acc = (preds.argmax(dim=-1) == labels).float().mean()\n",
        "        self.log(f\"{mode}_loss\", loss)\n",
        "        self.log(f\"{mode}_acc\", acc, on_step=False, on_epoch=True)\n",
        "        return loss, acc\n",
        "\n",
        "    def training_step(self, batch, batch_idx):\n",
        "        loss, _ = self._calculate_loss(batch, mode=\"train\")\n",
        "        return loss\n",
        "\n",
        "    def validation_step(self, batch, batch_idx):\n",
        "        _ = self._calculate_loss(batch, mode=\"val\")\n",
        "\n",
        "    def test_step(self, batch, batch_idx):\n",
        "        _ = self._calculate_loss(batch, mode=\"test\")"
      ],
      "metadata": {
        "id": "JYqfHEh1JFZa"
      },
      "execution_count": 30,
      "outputs": []
    },
    {
      "cell_type": "code",
      "source": [
        "def train_anomaly(**kwargs):\n",
        "    # Create a PyTorch Lightning trainer with the generation callback\n",
        "    root_dir = os.path.join(CHECKPOINT_PATH, \"SetAnomalyTask\")\n",
        "    os.makedirs(root_dir, exist_ok=True)\n",
        "    trainer = pl.Trainer(default_root_dir=root_dir,\n",
        "                         callbacks=[ModelCheckpoint(save_weights_only=True, mode=\"max\", monitor=\"val_acc\")],\n",
        "                         gpus=1 if str(device).startswith(\"cuda\") else 0,\n",
        "                         max_epochs=100,\n",
        "                         gradient_clip_val=2,\n",
        "                         progress_bar_refresh_rate=1)\n",
        "    trainer.logger._default_hp_metric = None # Optional logging argument that we don't need\n",
        "\n",
        "    # Check whether pretrained model exists. If yes, load it and skip training\n",
        "    pretrained_filename = os.path.join(CHECKPOINT_PATH, \"SetAnomalyTask.ckpt\")\n",
        "    if os.path.isfile(pretrained_filename):\n",
        "        print(\"Found pretrained model, loading...\")\n",
        "        model = AnomalyPredictor.load_from_checkpoint(pretrained_filename)\n",
        "    else:\n",
        "        model = AnomalyPredictor(max_iters=trainer.max_epochs*len(train_anom_loader), **kwargs)\n",
        "        trainer.fit(model, train_anom_loader, val_anom_loader)\n",
        "        model = AnomalyPredictor.load_from_checkpoint(trainer.checkpoint_callback.best_model_path)\n",
        "\n",
        "    # Test best model on validation and test set\n",
        "    train_result = trainer.test(model, train_anom_loader, verbose=False)\n",
        "    val_result = trainer.test(model, val_anom_loader, verbose=False)\n",
        "    test_result = trainer.test(model, test_anom_loader, verbose=False)\n",
        "    result = {\"test_acc\": test_result[0][\"test_acc\"], \"val_acc\": val_result[0][\"test_acc\"], \"train_acc\": train_result[0][\"test_acc\"]}\n",
        "\n",
        "    model = model.to(device)\n",
        "    return model, result"
      ],
      "metadata": {
        "id": "geh6fOkmKbKQ"
      },
      "execution_count": 31,
      "outputs": []
    },
    {
      "cell_type": "code",
      "source": [
        "anomaly_model, anomaly_result = train_anomaly(input_dim=train_anom_dataset.img_feats.shape[-1],\n",
        "                                              model_dim=256,\n",
        "                                              num_heads=4,\n",
        "                                              num_classes=1,\n",
        "                                              num_layers=4,\n",
        "                                              dropout=0.1,\n",
        "                                              input_dropout=0.1,\n",
        "                                              lr=5e-4,\n",
        "                                              warmup=100)"
      ],
      "metadata": {
        "colab": {
          "base_uri": "https://localhost:8080/",
          "height": 388,
          "referenced_widgets": [
            "f47395ee667d408bbb4ecfea4b6b876f",
            "c9c3b654c13d431ea6a9573ddf5f07bd",
            "ebdf9c5db5d049e488bb5877a2769005",
            "a0c73e329cb1408d9ca101c836080e85",
            "bd29adc9960841d08f70b6e2924ecba6",
            "5274735858204dca8c9888a55f2e9d34",
            "207bd46df3104ba9b93156813336c645",
            "11cfa430f7f6469aa73c746be66a49d0",
            "8a4d4b7f1b0244e2b65c39853b20d468",
            "384fe906463f48aabbf4515c854ea32a",
            "9138ced0437c49d6baa077e27709468c",
            "41ce9ad790e849fd8fafbc1b5409a627",
            "861c66139c934c57bb6069451bb39163",
            "8703f05574c14e928e6cd55d30956b69",
            "e63a423041964045835a1cb662c89464",
            "20fa8349fa8a42d78973099e58fb5a05",
            "6cd1f6788cef41df9223b719bac2eb30",
            "0dde69fd8ab5493cb325b9be4fdce989",
            "84f70d167ca341f6ae65e36935c347b6",
            "52c9f88a241147feaff920cf4c5c498b",
            "0d4cbb6429da4116865e6bc0d9c6a52e",
            "8e13e58e5d664e5ebeb56225245bf365",
            "6e6097bfdd8a48c1ba59b5f134818677",
            "247e84cb9e2b4f9c9cb2e573b0ca1f98",
            "037b748521d8453682b346b507564917",
            "66541f6700264d989f6aa40865bbdc30",
            "a3eb15a9f5ff457ca0535848dc7f926a",
            "8bcb5a1ff2b747ecb91b4aba7beb4579",
            "4b5060f605904a11ac63d3afaad9022a",
            "3c6fa94a874f4dbc87269741867df2a9",
            "c34e42b7062b4cd7930cf6cc98199de9",
            "b150c03f249041c39672a446c63cd1ee",
            "accc6ac277504df3ac0a7f094e2be001"
          ]
        },
        "id": "6pXQFuCkLIZ_",
        "outputId": "1a7d557a-7a3b-46c8-9d42-c157f792cd53"
      },
      "execution_count": 32,
      "outputs": [
        {
          "output_type": "stream",
          "name": "stderr",
          "text": [
            "/usr/local/lib/python3.7/dist-packages/pytorch_lightning/trainer/connectors/callback_connector.py:97: LightningDeprecationWarning: Setting `Trainer(progress_bar_refresh_rate=1)` is deprecated in v1.5 and will be removed in v1.7. Please pass `pytorch_lightning.callbacks.progress.TQDMProgressBar` with `refresh_rate` directly to the Trainer's `callbacks` argument instead. Or, to disable the progress bar pass `enable_progress_bar = False` to the Trainer.\n",
            "  f\"Setting `Trainer(progress_bar_refresh_rate={progress_bar_refresh_rate})` is deprecated in v1.5 and\"\n",
            "GPU available: True, used: True\n",
            "TPU available: False, using: 0 TPU cores\n",
            "IPU available: False, using: 0 IPUs\n",
            "HPU available: False, using: 0 HPUs\n"
          ]
        },
        {
          "output_type": "stream",
          "name": "stdout",
          "text": [
            "Found pretrained model, loading...\n"
          ]
        },
        {
          "output_type": "stream",
          "name": "stderr",
          "text": [
            "Missing logger folder: drive/MyDrive/deep learning tutorial/saved_models/transformer/SetAnomalyTask/lightning_logs\n",
            "LOCAL_RANK: 0 - CUDA_VISIBLE_DEVICES: [0]\n",
            "/usr/local/lib/python3.7/dist-packages/pytorch_lightning/trainer/connectors/data_connector.py:498: PossibleUserWarning: Your `test_dataloader`'s sampler has shuffling enabled, it is strongly recommended that you turn shuffling off for val/test/predict dataloaders.\n",
            "  category=PossibleUserWarning,\n"
          ]
        },
        {
          "output_type": "display_data",
          "data": {
            "text/plain": [
              "Testing: 0it [00:00, ?it/s]"
            ],
            "application/vnd.jupyter.widget-view+json": {
              "version_major": 2,
              "version_minor": 0,
              "model_id": "f47395ee667d408bbb4ecfea4b6b876f"
            }
          },
          "metadata": {}
        },
        {
          "output_type": "stream",
          "name": "stderr",
          "text": [
            "/usr/local/lib/python3.7/dist-packages/torch/utils/data/dataloader.py:560: UserWarning: This DataLoader will create 4 worker processes in total. Our suggested max number of worker in current system is 2, which is smaller than what this DataLoader is going to create. Please be aware that excessive worker creation might get DataLoader running slow or even freeze, lower the worker number to avoid potential slowness/freeze if necessary.\n",
            "  cpuset_checked))\n",
            "LOCAL_RANK: 0 - CUDA_VISIBLE_DEVICES: [0]\n"
          ]
        },
        {
          "output_type": "display_data",
          "data": {
            "text/plain": [
              "Testing: 0it [00:00, ?it/s]"
            ],
            "application/vnd.jupyter.widget-view+json": {
              "version_major": 2,
              "version_minor": 0,
              "model_id": "41ce9ad790e849fd8fafbc1b5409a627"
            }
          },
          "metadata": {}
        },
        {
          "output_type": "stream",
          "name": "stderr",
          "text": [
            "LOCAL_RANK: 0 - CUDA_VISIBLE_DEVICES: [0]\n"
          ]
        },
        {
          "output_type": "display_data",
          "data": {
            "text/plain": [
              "Testing: 0it [00:00, ?it/s]"
            ],
            "application/vnd.jupyter.widget-view+json": {
              "version_major": 2,
              "version_minor": 0,
              "model_id": "6e6097bfdd8a48c1ba59b5f134818677"
            }
          },
          "metadata": {}
        }
      ]
    },
    {
      "cell_type": "code",
      "source": [
        "print(f\"Val accuracy:  {(100.0 * anomaly_result['val_acc']):4.2f}%\")\n",
        "print(f\"Test accuracy: {(100.0 * anomaly_result['test_acc']):4.2f}%\")"
      ],
      "metadata": {
        "colab": {
          "base_uri": "https://localhost:8080/"
        },
        "id": "XILww4w2n0Ig",
        "outputId": "061ebc62-cd83-4224-86e2-86978e639d52"
      },
      "execution_count": 35,
      "outputs": [
        {
          "output_type": "stream",
          "name": "stdout",
          "text": [
            "Val accuracy:  95.70%\n",
            "Test accuracy: 94.18%\n"
          ]
        }
      ]
    }
  ]
}