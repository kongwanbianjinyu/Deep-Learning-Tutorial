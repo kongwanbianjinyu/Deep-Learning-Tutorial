{
  "nbformat": 4,
  "nbformat_minor": 0,
  "metadata": {
    "colab": {
      "name": "Activation.ipynb",
      "provenance": [],
      "collapsed_sections": [],
      "mount_file_id": "1fT9XsfzOpo4ro532vC1KAkBfuTRgvpDU",
      "authorship_tag": "ABX9TyNK67Pd0YWU6HXm9RYKbkY5",
      "include_colab_link": true
    },
    "kernelspec": {
      "name": "python3",
      "display_name": "Python 3"
    },
    "language_info": {
      "name": "python"
    },
    "accelerator": "GPU",
    "gpuClass": "standard",
    "widgets": {
      "application/vnd.jupyter.widget-state+json": {
        "1519de7c23a1431593ce90c2c86cc8cb": {
          "model_module": "@jupyter-widgets/controls",
          "model_name": "HBoxModel",
          "model_module_version": "1.5.0",
          "state": {
            "_dom_classes": [],
            "_model_module": "@jupyter-widgets/controls",
            "_model_module_version": "1.5.0",
            "_model_name": "HBoxModel",
            "_view_count": null,
            "_view_module": "@jupyter-widgets/controls",
            "_view_module_version": "1.5.0",
            "_view_name": "HBoxView",
            "box_style": "",
            "children": [
              "IPY_MODEL_6a5186ea753c438fbb1e6c624bb6f57b",
              "IPY_MODEL_40ec8111b8bf41c1938ecb1acfa1ed44",
              "IPY_MODEL_0a036bac9614415199257e1c1e986ff8"
            ],
            "layout": "IPY_MODEL_5f40241eb60c4eedb82f4bfdf428072c"
          }
        },
        "6a5186ea753c438fbb1e6c624bb6f57b": {
          "model_module": "@jupyter-widgets/controls",
          "model_name": "HTMLModel",
          "model_module_version": "1.5.0",
          "state": {
            "_dom_classes": [],
            "_model_module": "@jupyter-widgets/controls",
            "_model_module_version": "1.5.0",
            "_model_name": "HTMLModel",
            "_view_count": null,
            "_view_module": "@jupyter-widgets/controls",
            "_view_module_version": "1.5.0",
            "_view_name": "HTMLView",
            "description": "",
            "description_tooltip": null,
            "layout": "IPY_MODEL_420e7b4da704479ca52c6ab20fa5c0f1",
            "placeholder": "​",
            "style": "IPY_MODEL_1381385159aa46a1b6fb4f12811fe010",
            "value": "Epoch 1 :  99%"
          }
        },
        "40ec8111b8bf41c1938ecb1acfa1ed44": {
          "model_module": "@jupyter-widgets/controls",
          "model_name": "FloatProgressModel",
          "model_module_version": "1.5.0",
          "state": {
            "_dom_classes": [],
            "_model_module": "@jupyter-widgets/controls",
            "_model_module_version": "1.5.0",
            "_model_name": "FloatProgressModel",
            "_view_count": null,
            "_view_module": "@jupyter-widgets/controls",
            "_view_module_version": "1.5.0",
            "_view_name": "ProgressView",
            "bar_style": "",
            "description": "",
            "description_tooltip": null,
            "layout": "IPY_MODEL_80d541ac84d14510a99c0f11e8933479",
            "max": 196,
            "min": 0,
            "orientation": "horizontal",
            "style": "IPY_MODEL_27123b44b7d943bfb6827241d057fd27",
            "value": 196
          }
        },
        "0a036bac9614415199257e1c1e986ff8": {
          "model_module": "@jupyter-widgets/controls",
          "model_name": "HTMLModel",
          "model_module_version": "1.5.0",
          "state": {
            "_dom_classes": [],
            "_model_module": "@jupyter-widgets/controls",
            "_model_module_version": "1.5.0",
            "_model_name": "HTMLModel",
            "_view_count": null,
            "_view_module": "@jupyter-widgets/controls",
            "_view_module_version": "1.5.0",
            "_view_name": "HTMLView",
            "description": "",
            "description_tooltip": null,
            "layout": "IPY_MODEL_08538fd21f7d4d59b4c4fc6e6504cd58",
            "placeholder": "​",
            "style": "IPY_MODEL_7e6a850c42fc4f21a2c906d6dfa6d834",
            "value": " 195/196 [00:08&lt;00:00, 17.29it/s]"
          }
        },
        "5f40241eb60c4eedb82f4bfdf428072c": {
          "model_module": "@jupyter-widgets/base",
          "model_name": "LayoutModel",
          "model_module_version": "1.2.0",
          "state": {
            "_model_module": "@jupyter-widgets/base",
            "_model_module_version": "1.2.0",
            "_model_name": "LayoutModel",
            "_view_count": null,
            "_view_module": "@jupyter-widgets/base",
            "_view_module_version": "1.2.0",
            "_view_name": "LayoutView",
            "align_content": null,
            "align_items": null,
            "align_self": null,
            "border": null,
            "bottom": null,
            "display": null,
            "flex": null,
            "flex_flow": null,
            "grid_area": null,
            "grid_auto_columns": null,
            "grid_auto_flow": null,
            "grid_auto_rows": null,
            "grid_column": null,
            "grid_gap": null,
            "grid_row": null,
            "grid_template_areas": null,
            "grid_template_columns": null,
            "grid_template_rows": null,
            "height": null,
            "justify_content": null,
            "justify_items": null,
            "left": null,
            "margin": null,
            "max_height": null,
            "max_width": null,
            "min_height": null,
            "min_width": null,
            "object_fit": null,
            "object_position": null,
            "order": null,
            "overflow": null,
            "overflow_x": null,
            "overflow_y": null,
            "padding": null,
            "right": null,
            "top": null,
            "visibility": null,
            "width": null
          }
        },
        "420e7b4da704479ca52c6ab20fa5c0f1": {
          "model_module": "@jupyter-widgets/base",
          "model_name": "LayoutModel",
          "model_module_version": "1.2.0",
          "state": {
            "_model_module": "@jupyter-widgets/base",
            "_model_module_version": "1.2.0",
            "_model_name": "LayoutModel",
            "_view_count": null,
            "_view_module": "@jupyter-widgets/base",
            "_view_module_version": "1.2.0",
            "_view_name": "LayoutView",
            "align_content": null,
            "align_items": null,
            "align_self": null,
            "border": null,
            "bottom": null,
            "display": null,
            "flex": null,
            "flex_flow": null,
            "grid_area": null,
            "grid_auto_columns": null,
            "grid_auto_flow": null,
            "grid_auto_rows": null,
            "grid_column": null,
            "grid_gap": null,
            "grid_row": null,
            "grid_template_areas": null,
            "grid_template_columns": null,
            "grid_template_rows": null,
            "height": null,
            "justify_content": null,
            "justify_items": null,
            "left": null,
            "margin": null,
            "max_height": null,
            "max_width": null,
            "min_height": null,
            "min_width": null,
            "object_fit": null,
            "object_position": null,
            "order": null,
            "overflow": null,
            "overflow_x": null,
            "overflow_y": null,
            "padding": null,
            "right": null,
            "top": null,
            "visibility": null,
            "width": null
          }
        },
        "1381385159aa46a1b6fb4f12811fe010": {
          "model_module": "@jupyter-widgets/controls",
          "model_name": "DescriptionStyleModel",
          "model_module_version": "1.5.0",
          "state": {
            "_model_module": "@jupyter-widgets/controls",
            "_model_module_version": "1.5.0",
            "_model_name": "DescriptionStyleModel",
            "_view_count": null,
            "_view_module": "@jupyter-widgets/base",
            "_view_module_version": "1.2.0",
            "_view_name": "StyleView",
            "description_width": ""
          }
        },
        "80d541ac84d14510a99c0f11e8933479": {
          "model_module": "@jupyter-widgets/base",
          "model_name": "LayoutModel",
          "model_module_version": "1.2.0",
          "state": {
            "_model_module": "@jupyter-widgets/base",
            "_model_module_version": "1.2.0",
            "_model_name": "LayoutModel",
            "_view_count": null,
            "_view_module": "@jupyter-widgets/base",
            "_view_module_version": "1.2.0",
            "_view_name": "LayoutView",
            "align_content": null,
            "align_items": null,
            "align_self": null,
            "border": null,
            "bottom": null,
            "display": null,
            "flex": null,
            "flex_flow": null,
            "grid_area": null,
            "grid_auto_columns": null,
            "grid_auto_flow": null,
            "grid_auto_rows": null,
            "grid_column": null,
            "grid_gap": null,
            "grid_row": null,
            "grid_template_areas": null,
            "grid_template_columns": null,
            "grid_template_rows": null,
            "height": null,
            "justify_content": null,
            "justify_items": null,
            "left": null,
            "margin": null,
            "max_height": null,
            "max_width": null,
            "min_height": null,
            "min_width": null,
            "object_fit": null,
            "object_position": null,
            "order": null,
            "overflow": null,
            "overflow_x": null,
            "overflow_y": null,
            "padding": null,
            "right": null,
            "top": null,
            "visibility": null,
            "width": null
          }
        },
        "27123b44b7d943bfb6827241d057fd27": {
          "model_module": "@jupyter-widgets/controls",
          "model_name": "ProgressStyleModel",
          "model_module_version": "1.5.0",
          "state": {
            "_model_module": "@jupyter-widgets/controls",
            "_model_module_version": "1.5.0",
            "_model_name": "ProgressStyleModel",
            "_view_count": null,
            "_view_module": "@jupyter-widgets/base",
            "_view_module_version": "1.2.0",
            "_view_name": "StyleView",
            "bar_color": null,
            "description_width": ""
          }
        },
        "08538fd21f7d4d59b4c4fc6e6504cd58": {
          "model_module": "@jupyter-widgets/base",
          "model_name": "LayoutModel",
          "model_module_version": "1.2.0",
          "state": {
            "_model_module": "@jupyter-widgets/base",
            "_model_module_version": "1.2.0",
            "_model_name": "LayoutModel",
            "_view_count": null,
            "_view_module": "@jupyter-widgets/base",
            "_view_module_version": "1.2.0",
            "_view_name": "LayoutView",
            "align_content": null,
            "align_items": null,
            "align_self": null,
            "border": null,
            "bottom": null,
            "display": null,
            "flex": null,
            "flex_flow": null,
            "grid_area": null,
            "grid_auto_columns": null,
            "grid_auto_flow": null,
            "grid_auto_rows": null,
            "grid_column": null,
            "grid_gap": null,
            "grid_row": null,
            "grid_template_areas": null,
            "grid_template_columns": null,
            "grid_template_rows": null,
            "height": null,
            "justify_content": null,
            "justify_items": null,
            "left": null,
            "margin": null,
            "max_height": null,
            "max_width": null,
            "min_height": null,
            "min_width": null,
            "object_fit": null,
            "object_position": null,
            "order": null,
            "overflow": null,
            "overflow_x": null,
            "overflow_y": null,
            "padding": null,
            "right": null,
            "top": null,
            "visibility": null,
            "width": null
          }
        },
        "7e6a850c42fc4f21a2c906d6dfa6d834": {
          "model_module": "@jupyter-widgets/controls",
          "model_name": "DescriptionStyleModel",
          "model_module_version": "1.5.0",
          "state": {
            "_model_module": "@jupyter-widgets/controls",
            "_model_module_version": "1.5.0",
            "_model_name": "DescriptionStyleModel",
            "_view_count": null,
            "_view_module": "@jupyter-widgets/base",
            "_view_module_version": "1.2.0",
            "_view_name": "StyleView",
            "description_width": ""
          }
        },
        "1f697fb2ee53439288b6f3b7e6d94d08": {
          "model_module": "@jupyter-widgets/controls",
          "model_name": "HBoxModel",
          "model_module_version": "1.5.0",
          "state": {
            "_dom_classes": [],
            "_model_module": "@jupyter-widgets/controls",
            "_model_module_version": "1.5.0",
            "_model_name": "HBoxModel",
            "_view_count": null,
            "_view_module": "@jupyter-widgets/controls",
            "_view_module_version": "1.5.0",
            "_view_name": "HBoxView",
            "box_style": "",
            "children": [
              "IPY_MODEL_61b1aa31a3bb4072b06401a52f7b5aca",
              "IPY_MODEL_618ac6fc98dd457fb1bd01aba2552130",
              "IPY_MODEL_41f9d53a00434a8fb5c9c566ad440939"
            ],
            "layout": "IPY_MODEL_304fbae8d8b24b3789dabbfeb1d1e516"
          }
        },
        "61b1aa31a3bb4072b06401a52f7b5aca": {
          "model_module": "@jupyter-widgets/controls",
          "model_name": "HTMLModel",
          "model_module_version": "1.5.0",
          "state": {
            "_dom_classes": [],
            "_model_module": "@jupyter-widgets/controls",
            "_model_module_version": "1.5.0",
            "_model_name": "HTMLModel",
            "_view_count": null,
            "_view_module": "@jupyter-widgets/controls",
            "_view_module_version": "1.5.0",
            "_view_name": "HTMLView",
            "description": "",
            "description_tooltip": null,
            "layout": "IPY_MODEL_3e4261802f964c57aff61051b9b810a2",
            "placeholder": "​",
            "style": "IPY_MODEL_f5a8e500dd394e52a99615a17b96a4eb",
            "value": "Epoch 2 :  99%"
          }
        },
        "618ac6fc98dd457fb1bd01aba2552130": {
          "model_module": "@jupyter-widgets/controls",
          "model_name": "FloatProgressModel",
          "model_module_version": "1.5.0",
          "state": {
            "_dom_classes": [],
            "_model_module": "@jupyter-widgets/controls",
            "_model_module_version": "1.5.0",
            "_model_name": "FloatProgressModel",
            "_view_count": null,
            "_view_module": "@jupyter-widgets/controls",
            "_view_module_version": "1.5.0",
            "_view_name": "ProgressView",
            "bar_style": "",
            "description": "",
            "description_tooltip": null,
            "layout": "IPY_MODEL_dd368a9f92b54926b91aacc437f36290",
            "max": 196,
            "min": 0,
            "orientation": "horizontal",
            "style": "IPY_MODEL_9081afc91a90478da1a2f75223c671e5",
            "value": 196
          }
        },
        "41f9d53a00434a8fb5c9c566ad440939": {
          "model_module": "@jupyter-widgets/controls",
          "model_name": "HTMLModel",
          "model_module_version": "1.5.0",
          "state": {
            "_dom_classes": [],
            "_model_module": "@jupyter-widgets/controls",
            "_model_module_version": "1.5.0",
            "_model_name": "HTMLModel",
            "_view_count": null,
            "_view_module": "@jupyter-widgets/controls",
            "_view_module_version": "1.5.0",
            "_view_name": "HTMLView",
            "description": "",
            "description_tooltip": null,
            "layout": "IPY_MODEL_2a42419b3941428bbb69c6e180efbd51",
            "placeholder": "​",
            "style": "IPY_MODEL_f9e749a49d754826b444bbfaa34c6226",
            "value": " 194/196 [00:08&lt;00:00, 22.88it/s]"
          }
        },
        "304fbae8d8b24b3789dabbfeb1d1e516": {
          "model_module": "@jupyter-widgets/base",
          "model_name": "LayoutModel",
          "model_module_version": "1.2.0",
          "state": {
            "_model_module": "@jupyter-widgets/base",
            "_model_module_version": "1.2.0",
            "_model_name": "LayoutModel",
            "_view_count": null,
            "_view_module": "@jupyter-widgets/base",
            "_view_module_version": "1.2.0",
            "_view_name": "LayoutView",
            "align_content": null,
            "align_items": null,
            "align_self": null,
            "border": null,
            "bottom": null,
            "display": null,
            "flex": null,
            "flex_flow": null,
            "grid_area": null,
            "grid_auto_columns": null,
            "grid_auto_flow": null,
            "grid_auto_rows": null,
            "grid_column": null,
            "grid_gap": null,
            "grid_row": null,
            "grid_template_areas": null,
            "grid_template_columns": null,
            "grid_template_rows": null,
            "height": null,
            "justify_content": null,
            "justify_items": null,
            "left": null,
            "margin": null,
            "max_height": null,
            "max_width": null,
            "min_height": null,
            "min_width": null,
            "object_fit": null,
            "object_position": null,
            "order": null,
            "overflow": null,
            "overflow_x": null,
            "overflow_y": null,
            "padding": null,
            "right": null,
            "top": null,
            "visibility": null,
            "width": null
          }
        },
        "3e4261802f964c57aff61051b9b810a2": {
          "model_module": "@jupyter-widgets/base",
          "model_name": "LayoutModel",
          "model_module_version": "1.2.0",
          "state": {
            "_model_module": "@jupyter-widgets/base",
            "_model_module_version": "1.2.0",
            "_model_name": "LayoutModel",
            "_view_count": null,
            "_view_module": "@jupyter-widgets/base",
            "_view_module_version": "1.2.0",
            "_view_name": "LayoutView",
            "align_content": null,
            "align_items": null,
            "align_self": null,
            "border": null,
            "bottom": null,
            "display": null,
            "flex": null,
            "flex_flow": null,
            "grid_area": null,
            "grid_auto_columns": null,
            "grid_auto_flow": null,
            "grid_auto_rows": null,
            "grid_column": null,
            "grid_gap": null,
            "grid_row": null,
            "grid_template_areas": null,
            "grid_template_columns": null,
            "grid_template_rows": null,
            "height": null,
            "justify_content": null,
            "justify_items": null,
            "left": null,
            "margin": null,
            "max_height": null,
            "max_width": null,
            "min_height": null,
            "min_width": null,
            "object_fit": null,
            "object_position": null,
            "order": null,
            "overflow": null,
            "overflow_x": null,
            "overflow_y": null,
            "padding": null,
            "right": null,
            "top": null,
            "visibility": null,
            "width": null
          }
        },
        "f5a8e500dd394e52a99615a17b96a4eb": {
          "model_module": "@jupyter-widgets/controls",
          "model_name": "DescriptionStyleModel",
          "model_module_version": "1.5.0",
          "state": {
            "_model_module": "@jupyter-widgets/controls",
            "_model_module_version": "1.5.0",
            "_model_name": "DescriptionStyleModel",
            "_view_count": null,
            "_view_module": "@jupyter-widgets/base",
            "_view_module_version": "1.2.0",
            "_view_name": "StyleView",
            "description_width": ""
          }
        },
        "dd368a9f92b54926b91aacc437f36290": {
          "model_module": "@jupyter-widgets/base",
          "model_name": "LayoutModel",
          "model_module_version": "1.2.0",
          "state": {
            "_model_module": "@jupyter-widgets/base",
            "_model_module_version": "1.2.0",
            "_model_name": "LayoutModel",
            "_view_count": null,
            "_view_module": "@jupyter-widgets/base",
            "_view_module_version": "1.2.0",
            "_view_name": "LayoutView",
            "align_content": null,
            "align_items": null,
            "align_self": null,
            "border": null,
            "bottom": null,
            "display": null,
            "flex": null,
            "flex_flow": null,
            "grid_area": null,
            "grid_auto_columns": null,
            "grid_auto_flow": null,
            "grid_auto_rows": null,
            "grid_column": null,
            "grid_gap": null,
            "grid_row": null,
            "grid_template_areas": null,
            "grid_template_columns": null,
            "grid_template_rows": null,
            "height": null,
            "justify_content": null,
            "justify_items": null,
            "left": null,
            "margin": null,
            "max_height": null,
            "max_width": null,
            "min_height": null,
            "min_width": null,
            "object_fit": null,
            "object_position": null,
            "order": null,
            "overflow": null,
            "overflow_x": null,
            "overflow_y": null,
            "padding": null,
            "right": null,
            "top": null,
            "visibility": null,
            "width": null
          }
        },
        "9081afc91a90478da1a2f75223c671e5": {
          "model_module": "@jupyter-widgets/controls",
          "model_name": "ProgressStyleModel",
          "model_module_version": "1.5.0",
          "state": {
            "_model_module": "@jupyter-widgets/controls",
            "_model_module_version": "1.5.0",
            "_model_name": "ProgressStyleModel",
            "_view_count": null,
            "_view_module": "@jupyter-widgets/base",
            "_view_module_version": "1.2.0",
            "_view_name": "StyleView",
            "bar_color": null,
            "description_width": ""
          }
        },
        "2a42419b3941428bbb69c6e180efbd51": {
          "model_module": "@jupyter-widgets/base",
          "model_name": "LayoutModel",
          "model_module_version": "1.2.0",
          "state": {
            "_model_module": "@jupyter-widgets/base",
            "_model_module_version": "1.2.0",
            "_model_name": "LayoutModel",
            "_view_count": null,
            "_view_module": "@jupyter-widgets/base",
            "_view_module_version": "1.2.0",
            "_view_name": "LayoutView",
            "align_content": null,
            "align_items": null,
            "align_self": null,
            "border": null,
            "bottom": null,
            "display": null,
            "flex": null,
            "flex_flow": null,
            "grid_area": null,
            "grid_auto_columns": null,
            "grid_auto_flow": null,
            "grid_auto_rows": null,
            "grid_column": null,
            "grid_gap": null,
            "grid_row": null,
            "grid_template_areas": null,
            "grid_template_columns": null,
            "grid_template_rows": null,
            "height": null,
            "justify_content": null,
            "justify_items": null,
            "left": null,
            "margin": null,
            "max_height": null,
            "max_width": null,
            "min_height": null,
            "min_width": null,
            "object_fit": null,
            "object_position": null,
            "order": null,
            "overflow": null,
            "overflow_x": null,
            "overflow_y": null,
            "padding": null,
            "right": null,
            "top": null,
            "visibility": null,
            "width": null
          }
        },
        "f9e749a49d754826b444bbfaa34c6226": {
          "model_module": "@jupyter-widgets/controls",
          "model_name": "DescriptionStyleModel",
          "model_module_version": "1.5.0",
          "state": {
            "_model_module": "@jupyter-widgets/controls",
            "_model_module_version": "1.5.0",
            "_model_name": "DescriptionStyleModel",
            "_view_count": null,
            "_view_module": "@jupyter-widgets/base",
            "_view_module_version": "1.2.0",
            "_view_name": "StyleView",
            "description_width": ""
          }
        },
        "26f0c5511e434b9cb830f293f72087c0": {
          "model_module": "@jupyter-widgets/controls",
          "model_name": "HBoxModel",
          "model_module_version": "1.5.0",
          "state": {
            "_dom_classes": [],
            "_model_module": "@jupyter-widgets/controls",
            "_model_module_version": "1.5.0",
            "_model_name": "HBoxModel",
            "_view_count": null,
            "_view_module": "@jupyter-widgets/controls",
            "_view_module_version": "1.5.0",
            "_view_name": "HBoxView",
            "box_style": "",
            "children": [
              "IPY_MODEL_dc84e1d02b4f46918ac2123895edf4b5",
              "IPY_MODEL_be81747e68094a7a8a4117d84d327ca9",
              "IPY_MODEL_ab100d2cac2f43e0a7cfbf64512ddc5d"
            ],
            "layout": "IPY_MODEL_4925dd6086a241798b3f2233b746d654"
          }
        },
        "dc84e1d02b4f46918ac2123895edf4b5": {
          "model_module": "@jupyter-widgets/controls",
          "model_name": "HTMLModel",
          "model_module_version": "1.5.0",
          "state": {
            "_dom_classes": [],
            "_model_module": "@jupyter-widgets/controls",
            "_model_module_version": "1.5.0",
            "_model_name": "HTMLModel",
            "_view_count": null,
            "_view_module": "@jupyter-widgets/controls",
            "_view_module_version": "1.5.0",
            "_view_name": "HTMLView",
            "description": "",
            "description_tooltip": null,
            "layout": "IPY_MODEL_b3897d9140e64be298aff8dce98c2cb9",
            "placeholder": "​",
            "style": "IPY_MODEL_b5a97c9f1f8f4989bab101dfdbedfe8a",
            "value": "Epoch 3 :  99%"
          }
        },
        "be81747e68094a7a8a4117d84d327ca9": {
          "model_module": "@jupyter-widgets/controls",
          "model_name": "FloatProgressModel",
          "model_module_version": "1.5.0",
          "state": {
            "_dom_classes": [],
            "_model_module": "@jupyter-widgets/controls",
            "_model_module_version": "1.5.0",
            "_model_name": "FloatProgressModel",
            "_view_count": null,
            "_view_module": "@jupyter-widgets/controls",
            "_view_module_version": "1.5.0",
            "_view_name": "ProgressView",
            "bar_style": "",
            "description": "",
            "description_tooltip": null,
            "layout": "IPY_MODEL_ea04d2fba411442dbdfa75a419883094",
            "max": 196,
            "min": 0,
            "orientation": "horizontal",
            "style": "IPY_MODEL_b6725879bd0e4e27bd7df6e97fab25dd",
            "value": 196
          }
        },
        "ab100d2cac2f43e0a7cfbf64512ddc5d": {
          "model_module": "@jupyter-widgets/controls",
          "model_name": "HTMLModel",
          "model_module_version": "1.5.0",
          "state": {
            "_dom_classes": [],
            "_model_module": "@jupyter-widgets/controls",
            "_model_module_version": "1.5.0",
            "_model_name": "HTMLModel",
            "_view_count": null,
            "_view_module": "@jupyter-widgets/controls",
            "_view_module_version": "1.5.0",
            "_view_name": "HTMLView",
            "description": "",
            "description_tooltip": null,
            "layout": "IPY_MODEL_f9b2a38d8a774429b06cd939fd0c0938",
            "placeholder": "​",
            "style": "IPY_MODEL_596d0608594040e88d02a9a2f09e9aae",
            "value": " 194/196 [00:08&lt;00:00, 23.42it/s]"
          }
        },
        "4925dd6086a241798b3f2233b746d654": {
          "model_module": "@jupyter-widgets/base",
          "model_name": "LayoutModel",
          "model_module_version": "1.2.0",
          "state": {
            "_model_module": "@jupyter-widgets/base",
            "_model_module_version": "1.2.0",
            "_model_name": "LayoutModel",
            "_view_count": null,
            "_view_module": "@jupyter-widgets/base",
            "_view_module_version": "1.2.0",
            "_view_name": "LayoutView",
            "align_content": null,
            "align_items": null,
            "align_self": null,
            "border": null,
            "bottom": null,
            "display": null,
            "flex": null,
            "flex_flow": null,
            "grid_area": null,
            "grid_auto_columns": null,
            "grid_auto_flow": null,
            "grid_auto_rows": null,
            "grid_column": null,
            "grid_gap": null,
            "grid_row": null,
            "grid_template_areas": null,
            "grid_template_columns": null,
            "grid_template_rows": null,
            "height": null,
            "justify_content": null,
            "justify_items": null,
            "left": null,
            "margin": null,
            "max_height": null,
            "max_width": null,
            "min_height": null,
            "min_width": null,
            "object_fit": null,
            "object_position": null,
            "order": null,
            "overflow": null,
            "overflow_x": null,
            "overflow_y": null,
            "padding": null,
            "right": null,
            "top": null,
            "visibility": null,
            "width": null
          }
        },
        "b3897d9140e64be298aff8dce98c2cb9": {
          "model_module": "@jupyter-widgets/base",
          "model_name": "LayoutModel",
          "model_module_version": "1.2.0",
          "state": {
            "_model_module": "@jupyter-widgets/base",
            "_model_module_version": "1.2.0",
            "_model_name": "LayoutModel",
            "_view_count": null,
            "_view_module": "@jupyter-widgets/base",
            "_view_module_version": "1.2.0",
            "_view_name": "LayoutView",
            "align_content": null,
            "align_items": null,
            "align_self": null,
            "border": null,
            "bottom": null,
            "display": null,
            "flex": null,
            "flex_flow": null,
            "grid_area": null,
            "grid_auto_columns": null,
            "grid_auto_flow": null,
            "grid_auto_rows": null,
            "grid_column": null,
            "grid_gap": null,
            "grid_row": null,
            "grid_template_areas": null,
            "grid_template_columns": null,
            "grid_template_rows": null,
            "height": null,
            "justify_content": null,
            "justify_items": null,
            "left": null,
            "margin": null,
            "max_height": null,
            "max_width": null,
            "min_height": null,
            "min_width": null,
            "object_fit": null,
            "object_position": null,
            "order": null,
            "overflow": null,
            "overflow_x": null,
            "overflow_y": null,
            "padding": null,
            "right": null,
            "top": null,
            "visibility": null,
            "width": null
          }
        },
        "b5a97c9f1f8f4989bab101dfdbedfe8a": {
          "model_module": "@jupyter-widgets/controls",
          "model_name": "DescriptionStyleModel",
          "model_module_version": "1.5.0",
          "state": {
            "_model_module": "@jupyter-widgets/controls",
            "_model_module_version": "1.5.0",
            "_model_name": "DescriptionStyleModel",
            "_view_count": null,
            "_view_module": "@jupyter-widgets/base",
            "_view_module_version": "1.2.0",
            "_view_name": "StyleView",
            "description_width": ""
          }
        },
        "ea04d2fba411442dbdfa75a419883094": {
          "model_module": "@jupyter-widgets/base",
          "model_name": "LayoutModel",
          "model_module_version": "1.2.0",
          "state": {
            "_model_module": "@jupyter-widgets/base",
            "_model_module_version": "1.2.0",
            "_model_name": "LayoutModel",
            "_view_count": null,
            "_view_module": "@jupyter-widgets/base",
            "_view_module_version": "1.2.0",
            "_view_name": "LayoutView",
            "align_content": null,
            "align_items": null,
            "align_self": null,
            "border": null,
            "bottom": null,
            "display": null,
            "flex": null,
            "flex_flow": null,
            "grid_area": null,
            "grid_auto_columns": null,
            "grid_auto_flow": null,
            "grid_auto_rows": null,
            "grid_column": null,
            "grid_gap": null,
            "grid_row": null,
            "grid_template_areas": null,
            "grid_template_columns": null,
            "grid_template_rows": null,
            "height": null,
            "justify_content": null,
            "justify_items": null,
            "left": null,
            "margin": null,
            "max_height": null,
            "max_width": null,
            "min_height": null,
            "min_width": null,
            "object_fit": null,
            "object_position": null,
            "order": null,
            "overflow": null,
            "overflow_x": null,
            "overflow_y": null,
            "padding": null,
            "right": null,
            "top": null,
            "visibility": null,
            "width": null
          }
        },
        "b6725879bd0e4e27bd7df6e97fab25dd": {
          "model_module": "@jupyter-widgets/controls",
          "model_name": "ProgressStyleModel",
          "model_module_version": "1.5.0",
          "state": {
            "_model_module": "@jupyter-widgets/controls",
            "_model_module_version": "1.5.0",
            "_model_name": "ProgressStyleModel",
            "_view_count": null,
            "_view_module": "@jupyter-widgets/base",
            "_view_module_version": "1.2.0",
            "_view_name": "StyleView",
            "bar_color": null,
            "description_width": ""
          }
        },
        "f9b2a38d8a774429b06cd939fd0c0938": {
          "model_module": "@jupyter-widgets/base",
          "model_name": "LayoutModel",
          "model_module_version": "1.2.0",
          "state": {
            "_model_module": "@jupyter-widgets/base",
            "_model_module_version": "1.2.0",
            "_model_name": "LayoutModel",
            "_view_count": null,
            "_view_module": "@jupyter-widgets/base",
            "_view_module_version": "1.2.0",
            "_view_name": "LayoutView",
            "align_content": null,
            "align_items": null,
            "align_self": null,
            "border": null,
            "bottom": null,
            "display": null,
            "flex": null,
            "flex_flow": null,
            "grid_area": null,
            "grid_auto_columns": null,
            "grid_auto_flow": null,
            "grid_auto_rows": null,
            "grid_column": null,
            "grid_gap": null,
            "grid_row": null,
            "grid_template_areas": null,
            "grid_template_columns": null,
            "grid_template_rows": null,
            "height": null,
            "justify_content": null,
            "justify_items": null,
            "left": null,
            "margin": null,
            "max_height": null,
            "max_width": null,
            "min_height": null,
            "min_width": null,
            "object_fit": null,
            "object_position": null,
            "order": null,
            "overflow": null,
            "overflow_x": null,
            "overflow_y": null,
            "padding": null,
            "right": null,
            "top": null,
            "visibility": null,
            "width": null
          }
        },
        "596d0608594040e88d02a9a2f09e9aae": {
          "model_module": "@jupyter-widgets/controls",
          "model_name": "DescriptionStyleModel",
          "model_module_version": "1.5.0",
          "state": {
            "_model_module": "@jupyter-widgets/controls",
            "_model_module_version": "1.5.0",
            "_model_name": "DescriptionStyleModel",
            "_view_count": null,
            "_view_module": "@jupyter-widgets/base",
            "_view_module_version": "1.2.0",
            "_view_name": "StyleView",
            "description_width": ""
          }
        },
        "32bd43c4078243b58e652d586916f568": {
          "model_module": "@jupyter-widgets/controls",
          "model_name": "HBoxModel",
          "model_module_version": "1.5.0",
          "state": {
            "_dom_classes": [],
            "_model_module": "@jupyter-widgets/controls",
            "_model_module_version": "1.5.0",
            "_model_name": "HBoxModel",
            "_view_count": null,
            "_view_module": "@jupyter-widgets/controls",
            "_view_module_version": "1.5.0",
            "_view_name": "HBoxView",
            "box_style": "",
            "children": [
              "IPY_MODEL_a811db9502824795aa483a38d79ecb20",
              "IPY_MODEL_f5e13d2a6e284daa9718dd220a6b9585",
              "IPY_MODEL_d1a70c94171c4d07963d98ebfc2e8e45"
            ],
            "layout": "IPY_MODEL_ddc3ec3ea0be465b81b9c2cf7bc57651"
          }
        },
        "a811db9502824795aa483a38d79ecb20": {
          "model_module": "@jupyter-widgets/controls",
          "model_name": "HTMLModel",
          "model_module_version": "1.5.0",
          "state": {
            "_dom_classes": [],
            "_model_module": "@jupyter-widgets/controls",
            "_model_module_version": "1.5.0",
            "_model_name": "HTMLModel",
            "_view_count": null,
            "_view_module": "@jupyter-widgets/controls",
            "_view_module_version": "1.5.0",
            "_view_name": "HTMLView",
            "description": "",
            "description_tooltip": null,
            "layout": "IPY_MODEL_2cb79c240a884c749240e6d67edb98a1",
            "placeholder": "​",
            "style": "IPY_MODEL_4d4a318703084dc9b62c7144902f5731",
            "value": "Epoch 4 :  99%"
          }
        },
        "f5e13d2a6e284daa9718dd220a6b9585": {
          "model_module": "@jupyter-widgets/controls",
          "model_name": "FloatProgressModel",
          "model_module_version": "1.5.0",
          "state": {
            "_dom_classes": [],
            "_model_module": "@jupyter-widgets/controls",
            "_model_module_version": "1.5.0",
            "_model_name": "FloatProgressModel",
            "_view_count": null,
            "_view_module": "@jupyter-widgets/controls",
            "_view_module_version": "1.5.0",
            "_view_name": "ProgressView",
            "bar_style": "",
            "description": "",
            "description_tooltip": null,
            "layout": "IPY_MODEL_7fa4e22f395f4dc7a462bc89c1cf0576",
            "max": 196,
            "min": 0,
            "orientation": "horizontal",
            "style": "IPY_MODEL_5676573fc561448a92c67af3ef1d815b",
            "value": 196
          }
        },
        "d1a70c94171c4d07963d98ebfc2e8e45": {
          "model_module": "@jupyter-widgets/controls",
          "model_name": "HTMLModel",
          "model_module_version": "1.5.0",
          "state": {
            "_dom_classes": [],
            "_model_module": "@jupyter-widgets/controls",
            "_model_module_version": "1.5.0",
            "_model_name": "HTMLModel",
            "_view_count": null,
            "_view_module": "@jupyter-widgets/controls",
            "_view_module_version": "1.5.0",
            "_view_name": "HTMLView",
            "description": "",
            "description_tooltip": null,
            "layout": "IPY_MODEL_91ec789725b34754a4e169523180f64e",
            "placeholder": "​",
            "style": "IPY_MODEL_d58addf6bb09402badf0e354cb275c4e",
            "value": " 194/196 [00:08&lt;00:00, 22.83it/s]"
          }
        },
        "ddc3ec3ea0be465b81b9c2cf7bc57651": {
          "model_module": "@jupyter-widgets/base",
          "model_name": "LayoutModel",
          "model_module_version": "1.2.0",
          "state": {
            "_model_module": "@jupyter-widgets/base",
            "_model_module_version": "1.2.0",
            "_model_name": "LayoutModel",
            "_view_count": null,
            "_view_module": "@jupyter-widgets/base",
            "_view_module_version": "1.2.0",
            "_view_name": "LayoutView",
            "align_content": null,
            "align_items": null,
            "align_self": null,
            "border": null,
            "bottom": null,
            "display": null,
            "flex": null,
            "flex_flow": null,
            "grid_area": null,
            "grid_auto_columns": null,
            "grid_auto_flow": null,
            "grid_auto_rows": null,
            "grid_column": null,
            "grid_gap": null,
            "grid_row": null,
            "grid_template_areas": null,
            "grid_template_columns": null,
            "grid_template_rows": null,
            "height": null,
            "justify_content": null,
            "justify_items": null,
            "left": null,
            "margin": null,
            "max_height": null,
            "max_width": null,
            "min_height": null,
            "min_width": null,
            "object_fit": null,
            "object_position": null,
            "order": null,
            "overflow": null,
            "overflow_x": null,
            "overflow_y": null,
            "padding": null,
            "right": null,
            "top": null,
            "visibility": null,
            "width": null
          }
        },
        "2cb79c240a884c749240e6d67edb98a1": {
          "model_module": "@jupyter-widgets/base",
          "model_name": "LayoutModel",
          "model_module_version": "1.2.0",
          "state": {
            "_model_module": "@jupyter-widgets/base",
            "_model_module_version": "1.2.0",
            "_model_name": "LayoutModel",
            "_view_count": null,
            "_view_module": "@jupyter-widgets/base",
            "_view_module_version": "1.2.0",
            "_view_name": "LayoutView",
            "align_content": null,
            "align_items": null,
            "align_self": null,
            "border": null,
            "bottom": null,
            "display": null,
            "flex": null,
            "flex_flow": null,
            "grid_area": null,
            "grid_auto_columns": null,
            "grid_auto_flow": null,
            "grid_auto_rows": null,
            "grid_column": null,
            "grid_gap": null,
            "grid_row": null,
            "grid_template_areas": null,
            "grid_template_columns": null,
            "grid_template_rows": null,
            "height": null,
            "justify_content": null,
            "justify_items": null,
            "left": null,
            "margin": null,
            "max_height": null,
            "max_width": null,
            "min_height": null,
            "min_width": null,
            "object_fit": null,
            "object_position": null,
            "order": null,
            "overflow": null,
            "overflow_x": null,
            "overflow_y": null,
            "padding": null,
            "right": null,
            "top": null,
            "visibility": null,
            "width": null
          }
        },
        "4d4a318703084dc9b62c7144902f5731": {
          "model_module": "@jupyter-widgets/controls",
          "model_name": "DescriptionStyleModel",
          "model_module_version": "1.5.0",
          "state": {
            "_model_module": "@jupyter-widgets/controls",
            "_model_module_version": "1.5.0",
            "_model_name": "DescriptionStyleModel",
            "_view_count": null,
            "_view_module": "@jupyter-widgets/base",
            "_view_module_version": "1.2.0",
            "_view_name": "StyleView",
            "description_width": ""
          }
        },
        "7fa4e22f395f4dc7a462bc89c1cf0576": {
          "model_module": "@jupyter-widgets/base",
          "model_name": "LayoutModel",
          "model_module_version": "1.2.0",
          "state": {
            "_model_module": "@jupyter-widgets/base",
            "_model_module_version": "1.2.0",
            "_model_name": "LayoutModel",
            "_view_count": null,
            "_view_module": "@jupyter-widgets/base",
            "_view_module_version": "1.2.0",
            "_view_name": "LayoutView",
            "align_content": null,
            "align_items": null,
            "align_self": null,
            "border": null,
            "bottom": null,
            "display": null,
            "flex": null,
            "flex_flow": null,
            "grid_area": null,
            "grid_auto_columns": null,
            "grid_auto_flow": null,
            "grid_auto_rows": null,
            "grid_column": null,
            "grid_gap": null,
            "grid_row": null,
            "grid_template_areas": null,
            "grid_template_columns": null,
            "grid_template_rows": null,
            "height": null,
            "justify_content": null,
            "justify_items": null,
            "left": null,
            "margin": null,
            "max_height": null,
            "max_width": null,
            "min_height": null,
            "min_width": null,
            "object_fit": null,
            "object_position": null,
            "order": null,
            "overflow": null,
            "overflow_x": null,
            "overflow_y": null,
            "padding": null,
            "right": null,
            "top": null,
            "visibility": null,
            "width": null
          }
        },
        "5676573fc561448a92c67af3ef1d815b": {
          "model_module": "@jupyter-widgets/controls",
          "model_name": "ProgressStyleModel",
          "model_module_version": "1.5.0",
          "state": {
            "_model_module": "@jupyter-widgets/controls",
            "_model_module_version": "1.5.0",
            "_model_name": "ProgressStyleModel",
            "_view_count": null,
            "_view_module": "@jupyter-widgets/base",
            "_view_module_version": "1.2.0",
            "_view_name": "StyleView",
            "bar_color": null,
            "description_width": ""
          }
        },
        "91ec789725b34754a4e169523180f64e": {
          "model_module": "@jupyter-widgets/base",
          "model_name": "LayoutModel",
          "model_module_version": "1.2.0",
          "state": {
            "_model_module": "@jupyter-widgets/base",
            "_model_module_version": "1.2.0",
            "_model_name": "LayoutModel",
            "_view_count": null,
            "_view_module": "@jupyter-widgets/base",
            "_view_module_version": "1.2.0",
            "_view_name": "LayoutView",
            "align_content": null,
            "align_items": null,
            "align_self": null,
            "border": null,
            "bottom": null,
            "display": null,
            "flex": null,
            "flex_flow": null,
            "grid_area": null,
            "grid_auto_columns": null,
            "grid_auto_flow": null,
            "grid_auto_rows": null,
            "grid_column": null,
            "grid_gap": null,
            "grid_row": null,
            "grid_template_areas": null,
            "grid_template_columns": null,
            "grid_template_rows": null,
            "height": null,
            "justify_content": null,
            "justify_items": null,
            "left": null,
            "margin": null,
            "max_height": null,
            "max_width": null,
            "min_height": null,
            "min_width": null,
            "object_fit": null,
            "object_position": null,
            "order": null,
            "overflow": null,
            "overflow_x": null,
            "overflow_y": null,
            "padding": null,
            "right": null,
            "top": null,
            "visibility": null,
            "width": null
          }
        },
        "d58addf6bb09402badf0e354cb275c4e": {
          "model_module": "@jupyter-widgets/controls",
          "model_name": "DescriptionStyleModel",
          "model_module_version": "1.5.0",
          "state": {
            "_model_module": "@jupyter-widgets/controls",
            "_model_module_version": "1.5.0",
            "_model_name": "DescriptionStyleModel",
            "_view_count": null,
            "_view_module": "@jupyter-widgets/base",
            "_view_module_version": "1.2.0",
            "_view_name": "StyleView",
            "description_width": ""
          }
        },
        "76e486da4e8649dc9e6a0d5a6c4f56b3": {
          "model_module": "@jupyter-widgets/controls",
          "model_name": "HBoxModel",
          "model_module_version": "1.5.0",
          "state": {
            "_dom_classes": [],
            "_model_module": "@jupyter-widgets/controls",
            "_model_module_version": "1.5.0",
            "_model_name": "HBoxModel",
            "_view_count": null,
            "_view_module": "@jupyter-widgets/controls",
            "_view_module_version": "1.5.0",
            "_view_name": "HBoxView",
            "box_style": "",
            "children": [
              "IPY_MODEL_991f82d1e1994fe8a8c26b25f7e08192",
              "IPY_MODEL_9aea936e97ea44f5ade08242b5007dda",
              "IPY_MODEL_42b8c7e36713460a8a61ab4b874789a3"
            ],
            "layout": "IPY_MODEL_6af5eaff58c944499e5f932a90f7fdcb"
          }
        },
        "991f82d1e1994fe8a8c26b25f7e08192": {
          "model_module": "@jupyter-widgets/controls",
          "model_name": "HTMLModel",
          "model_module_version": "1.5.0",
          "state": {
            "_dom_classes": [],
            "_model_module": "@jupyter-widgets/controls",
            "_model_module_version": "1.5.0",
            "_model_name": "HTMLModel",
            "_view_count": null,
            "_view_module": "@jupyter-widgets/controls",
            "_view_module_version": "1.5.0",
            "_view_name": "HTMLView",
            "description": "",
            "description_tooltip": null,
            "layout": "IPY_MODEL_8fc0cb0a41f64b1384372adf2103bfe0",
            "placeholder": "​",
            "style": "IPY_MODEL_1a0e908830f144d685f555ccf7b09ea6",
            "value": "Epoch 5 :  99%"
          }
        },
        "9aea936e97ea44f5ade08242b5007dda": {
          "model_module": "@jupyter-widgets/controls",
          "model_name": "FloatProgressModel",
          "model_module_version": "1.5.0",
          "state": {
            "_dom_classes": [],
            "_model_module": "@jupyter-widgets/controls",
            "_model_module_version": "1.5.0",
            "_model_name": "FloatProgressModel",
            "_view_count": null,
            "_view_module": "@jupyter-widgets/controls",
            "_view_module_version": "1.5.0",
            "_view_name": "ProgressView",
            "bar_style": "",
            "description": "",
            "description_tooltip": null,
            "layout": "IPY_MODEL_fc25b334ccc5400481c8a2e2dd28eed6",
            "max": 196,
            "min": 0,
            "orientation": "horizontal",
            "style": "IPY_MODEL_6a9b29ac87b94d34ae9f7788a09ca040",
            "value": 196
          }
        },
        "42b8c7e36713460a8a61ab4b874789a3": {
          "model_module": "@jupyter-widgets/controls",
          "model_name": "HTMLModel",
          "model_module_version": "1.5.0",
          "state": {
            "_dom_classes": [],
            "_model_module": "@jupyter-widgets/controls",
            "_model_module_version": "1.5.0",
            "_model_name": "HTMLModel",
            "_view_count": null,
            "_view_module": "@jupyter-widgets/controls",
            "_view_module_version": "1.5.0",
            "_view_name": "HTMLView",
            "description": "",
            "description_tooltip": null,
            "layout": "IPY_MODEL_93ab9bc884d1490184f8bc3b554ef057",
            "placeholder": "​",
            "style": "IPY_MODEL_33a5036260b5456bb4a8eb0ed1acf505",
            "value": " 194/196 [00:08&lt;00:00, 18.63it/s]"
          }
        },
        "6af5eaff58c944499e5f932a90f7fdcb": {
          "model_module": "@jupyter-widgets/base",
          "model_name": "LayoutModel",
          "model_module_version": "1.2.0",
          "state": {
            "_model_module": "@jupyter-widgets/base",
            "_model_module_version": "1.2.0",
            "_model_name": "LayoutModel",
            "_view_count": null,
            "_view_module": "@jupyter-widgets/base",
            "_view_module_version": "1.2.0",
            "_view_name": "LayoutView",
            "align_content": null,
            "align_items": null,
            "align_self": null,
            "border": null,
            "bottom": null,
            "display": null,
            "flex": null,
            "flex_flow": null,
            "grid_area": null,
            "grid_auto_columns": null,
            "grid_auto_flow": null,
            "grid_auto_rows": null,
            "grid_column": null,
            "grid_gap": null,
            "grid_row": null,
            "grid_template_areas": null,
            "grid_template_columns": null,
            "grid_template_rows": null,
            "height": null,
            "justify_content": null,
            "justify_items": null,
            "left": null,
            "margin": null,
            "max_height": null,
            "max_width": null,
            "min_height": null,
            "min_width": null,
            "object_fit": null,
            "object_position": null,
            "order": null,
            "overflow": null,
            "overflow_x": null,
            "overflow_y": null,
            "padding": null,
            "right": null,
            "top": null,
            "visibility": null,
            "width": null
          }
        },
        "8fc0cb0a41f64b1384372adf2103bfe0": {
          "model_module": "@jupyter-widgets/base",
          "model_name": "LayoutModel",
          "model_module_version": "1.2.0",
          "state": {
            "_model_module": "@jupyter-widgets/base",
            "_model_module_version": "1.2.0",
            "_model_name": "LayoutModel",
            "_view_count": null,
            "_view_module": "@jupyter-widgets/base",
            "_view_module_version": "1.2.0",
            "_view_name": "LayoutView",
            "align_content": null,
            "align_items": null,
            "align_self": null,
            "border": null,
            "bottom": null,
            "display": null,
            "flex": null,
            "flex_flow": null,
            "grid_area": null,
            "grid_auto_columns": null,
            "grid_auto_flow": null,
            "grid_auto_rows": null,
            "grid_column": null,
            "grid_gap": null,
            "grid_row": null,
            "grid_template_areas": null,
            "grid_template_columns": null,
            "grid_template_rows": null,
            "height": null,
            "justify_content": null,
            "justify_items": null,
            "left": null,
            "margin": null,
            "max_height": null,
            "max_width": null,
            "min_height": null,
            "min_width": null,
            "object_fit": null,
            "object_position": null,
            "order": null,
            "overflow": null,
            "overflow_x": null,
            "overflow_y": null,
            "padding": null,
            "right": null,
            "top": null,
            "visibility": null,
            "width": null
          }
        },
        "1a0e908830f144d685f555ccf7b09ea6": {
          "model_module": "@jupyter-widgets/controls",
          "model_name": "DescriptionStyleModel",
          "model_module_version": "1.5.0",
          "state": {
            "_model_module": "@jupyter-widgets/controls",
            "_model_module_version": "1.5.0",
            "_model_name": "DescriptionStyleModel",
            "_view_count": null,
            "_view_module": "@jupyter-widgets/base",
            "_view_module_version": "1.2.0",
            "_view_name": "StyleView",
            "description_width": ""
          }
        },
        "fc25b334ccc5400481c8a2e2dd28eed6": {
          "model_module": "@jupyter-widgets/base",
          "model_name": "LayoutModel",
          "model_module_version": "1.2.0",
          "state": {
            "_model_module": "@jupyter-widgets/base",
            "_model_module_version": "1.2.0",
            "_model_name": "LayoutModel",
            "_view_count": null,
            "_view_module": "@jupyter-widgets/base",
            "_view_module_version": "1.2.0",
            "_view_name": "LayoutView",
            "align_content": null,
            "align_items": null,
            "align_self": null,
            "border": null,
            "bottom": null,
            "display": null,
            "flex": null,
            "flex_flow": null,
            "grid_area": null,
            "grid_auto_columns": null,
            "grid_auto_flow": null,
            "grid_auto_rows": null,
            "grid_column": null,
            "grid_gap": null,
            "grid_row": null,
            "grid_template_areas": null,
            "grid_template_columns": null,
            "grid_template_rows": null,
            "height": null,
            "justify_content": null,
            "justify_items": null,
            "left": null,
            "margin": null,
            "max_height": null,
            "max_width": null,
            "min_height": null,
            "min_width": null,
            "object_fit": null,
            "object_position": null,
            "order": null,
            "overflow": null,
            "overflow_x": null,
            "overflow_y": null,
            "padding": null,
            "right": null,
            "top": null,
            "visibility": null,
            "width": null
          }
        },
        "6a9b29ac87b94d34ae9f7788a09ca040": {
          "model_module": "@jupyter-widgets/controls",
          "model_name": "ProgressStyleModel",
          "model_module_version": "1.5.0",
          "state": {
            "_model_module": "@jupyter-widgets/controls",
            "_model_module_version": "1.5.0",
            "_model_name": "ProgressStyleModel",
            "_view_count": null,
            "_view_module": "@jupyter-widgets/base",
            "_view_module_version": "1.2.0",
            "_view_name": "StyleView",
            "bar_color": null,
            "description_width": ""
          }
        },
        "93ab9bc884d1490184f8bc3b554ef057": {
          "model_module": "@jupyter-widgets/base",
          "model_name": "LayoutModel",
          "model_module_version": "1.2.0",
          "state": {
            "_model_module": "@jupyter-widgets/base",
            "_model_module_version": "1.2.0",
            "_model_name": "LayoutModel",
            "_view_count": null,
            "_view_module": "@jupyter-widgets/base",
            "_view_module_version": "1.2.0",
            "_view_name": "LayoutView",
            "align_content": null,
            "align_items": null,
            "align_self": null,
            "border": null,
            "bottom": null,
            "display": null,
            "flex": null,
            "flex_flow": null,
            "grid_area": null,
            "grid_auto_columns": null,
            "grid_auto_flow": null,
            "grid_auto_rows": null,
            "grid_column": null,
            "grid_gap": null,
            "grid_row": null,
            "grid_template_areas": null,
            "grid_template_columns": null,
            "grid_template_rows": null,
            "height": null,
            "justify_content": null,
            "justify_items": null,
            "left": null,
            "margin": null,
            "max_height": null,
            "max_width": null,
            "min_height": null,
            "min_width": null,
            "object_fit": null,
            "object_position": null,
            "order": null,
            "overflow": null,
            "overflow_x": null,
            "overflow_y": null,
            "padding": null,
            "right": null,
            "top": null,
            "visibility": null,
            "width": null
          }
        },
        "33a5036260b5456bb4a8eb0ed1acf505": {
          "model_module": "@jupyter-widgets/controls",
          "model_name": "DescriptionStyleModel",
          "model_module_version": "1.5.0",
          "state": {
            "_model_module": "@jupyter-widgets/controls",
            "_model_module_version": "1.5.0",
            "_model_name": "DescriptionStyleModel",
            "_view_count": null,
            "_view_module": "@jupyter-widgets/base",
            "_view_module_version": "1.2.0",
            "_view_name": "StyleView",
            "description_width": ""
          }
        }
      }
    }
  },
  "cells": [
    {
      "cell_type": "markdown",
      "metadata": {
        "id": "view-in-github",
        "colab_type": "text"
      },
      "source": [
        "<a href=\"https://colab.research.google.com/github/kongwanbianjinyu/Deep-Learning-Tutorial/blob/main/Activation.ipynb\" target=\"_parent\"><img src=\"https://colab.research.google.com/assets/colab-badge.svg\" alt=\"Open In Colab\"/></a>"
      ]
    },
    {
      "cell_type": "code",
      "execution_count": null,
      "metadata": {
        "id": "RBesqxM5uzkk"
      },
      "outputs": [],
      "source": [
        "## Standard libraries\n",
        "import os\n",
        "import json\n",
        "import math\n",
        "import numpy as np\n",
        "\n",
        "## Imports for plotting\n",
        "import matplotlib.pyplot as plt\n",
        "%matplotlib inline\n",
        "from IPython.display import set_matplotlib_formats\n",
        "set_matplotlib_formats('svg', 'pdf') # For export\n",
        "import seaborn as sns\n",
        "sns.set()\n",
        "\n",
        "## Progress bar\n",
        "from tqdm.notebook import tqdm\n",
        "\n",
        "## PyTorch\n",
        "import torch\n",
        "import torch.nn as nn\n",
        "import torch.nn.functional as F\n",
        "import torch.utils.data as data\n",
        "import torch.optim as optim"
      ]
    },
    {
      "cell_type": "code",
      "source": [
        "# save dataset\n",
        "DATASET_PATH = \"drive/MyDrive/deep learning tutorial/data\"\n",
        "# save trained model weights\n",
        "CHECKPOINT_PATH = \"drive/MyDrive/deep learning tutorial/saved_models/Activation\"\n",
        "\n",
        "# Function for setting the seed\n",
        "def set_seed(seed):\n",
        "    np.random.seed(seed)\n",
        "    torch.manual_seed(seed)\n",
        "    if torch.cuda.is_available(): # GPU operation have separate seed\n",
        "        torch.cuda.manual_seed(seed)\n",
        "        torch.cuda.manual_seed_all(seed)\n",
        "set_seed(42)\n",
        "\n",
        "# Additionally, some operations on a GPU are implemented stochastic for efficiency\n",
        "# We want to ensure that all operations are deterministic on GPU (if used) for reproducibility\n",
        "torch.backends.cudnn.deterministic = True\n",
        "torch.backends.cudnn.benchmark = False\n",
        "\n",
        "# Fetching the device that will be used throughout this notebook\n",
        "device = torch.device(\"cpu\") if not torch.cuda.is_available() else torch.device(\"cuda:0\")\n",
        "print(\"Using device\", device)"
      ],
      "metadata": {
        "colab": {
          "base_uri": "https://localhost:8080/"
        },
        "id": "rsXWhVDUvJRN",
        "outputId": "917567d2-fa43-47ae-de3a-61406d936b27"
      },
      "execution_count": null,
      "outputs": [
        {
          "output_type": "stream",
          "name": "stdout",
          "text": [
            "Using device cuda:0\n"
          ]
        }
      ]
    },
    {
      "cell_type": "markdown",
      "source": [
        "# Download Models"
      ],
      "metadata": {
        "id": "JuqaUr9-whhc"
      }
    },
    {
      "cell_type": "code",
      "source": [
        "# if not exist, create checkpoint path\n",
        "os.makedirs(CHECKPOINT_PATH, exist_ok=True)\n"
      ],
      "metadata": {
        "id": "poU0oUoDwJrc"
      },
      "execution_count": null,
      "outputs": []
    },
    {
      "cell_type": "code",
      "source": [
        "import urllib.request\n",
        "from urllib.error import HTTPError\n",
        "\n",
        "# Github URL where saved models are stored for this tutorial\n",
        "base_url = \"https://raw.githubusercontent.com/phlippe/saved_models/main/tutorial3/\"\n",
        "# Files to download\n",
        "pretrained_files = [\"FashionMNIST_elu.config\", \"FashionMNIST_elu.tar\",\n",
        "                    \"FashionMNIST_leakyrelu.config\", \"FashionMNIST_leakyrelu.tar\",\n",
        "                    \"FashionMNIST_relu.config\", \"FashionMNIST_relu.tar\",\n",
        "                    \"FashionMNIST_sigmoid.config\", \"FashionMNIST_sigmoid.tar\",\n",
        "                    \"FashionMNIST_swish.config\", \"FashionMNIST_swish.tar\",\n",
        "                    \"FashionMNIST_tanh.config\", \"FashionMNIST_tanh.tar\"]"
      ],
      "metadata": {
        "id": "ickW7w1vxPGB"
      },
      "execution_count": null,
      "outputs": []
    },
    {
      "cell_type": "code",
      "source": [
        "# For each file, check whether it already exists. If not, try downloading it.\n",
        "for file_name in pretrained_files:\n",
        "    file_path = os.path.join(CHECKPOINT_PATH, file_name)\n",
        "    if not os.path.isfile(file_path):\n",
        "        file_url = base_url + file_name\n",
        "        print(f\"Downloading {file_url}...\")\n",
        "        try:\n",
        "            urllib.request.urlretrieve(file_url, file_path)\n",
        "        except HTTPError as e:\n",
        "            print(\"Something went wrong. Please try to download the file from the GDrive folder\")"
      ],
      "metadata": {
        "id": "UD2WQOkgxUV8"
      },
      "execution_count": null,
      "outputs": []
    },
    {
      "cell_type": "markdown",
      "source": [
        "# Activation Function Layer"
      ],
      "metadata": {
        "id": "zN-rFF0_zJjz"
      }
    },
    {
      "cell_type": "code",
      "source": [
        "class ActivationFunction(nn.Module):\n",
        "  def __init__(self):\n",
        "    super().__init__()\n",
        "    self.name = self.__class__.__name__\n",
        "    self.config = {\"name\":self.name}"
      ],
      "metadata": {
        "id": "VcMCfvP_xl2E"
      },
      "execution_count": null,
      "outputs": []
    },
    {
      "cell_type": "code",
      "source": [
        "class Sigmoid(ActivationFunction):\n",
        "  def forward(self, x):\n",
        "    return 1 / (1 + torch.exp(-x))"
      ],
      "metadata": {
        "id": "eNCpFYENzhEz"
      },
      "execution_count": null,
      "outputs": []
    },
    {
      "cell_type": "code",
      "source": [
        "class LeakyReLU(ActivationFunction):\n",
        "  def __init__(self,alpha = 0.1):\n",
        "    super().__init__()\n",
        "    self.config[\"alpha\"] = alpha\n",
        "  def forward(self,x):\n",
        "    # torch.where(condition,x,y) if x_i satisfy condition: index i get x_i else y_i\n",
        "    return torch.where(x > 0, x ,self.config[\"alpha\"] * x)"
      ],
      "metadata": {
        "id": "wkqWNrMD0MrJ"
      },
      "execution_count": null,
      "outputs": []
    },
    {
      "cell_type": "code",
      "source": [
        "act_func1 = Sigmoid()\n",
        "print(act_func1.name)\n",
        "print(act_func1.config)\n",
        "\n",
        "act_func2 = LeakyReLU()\n",
        "print(act_func2.name)\n",
        "print(act_func2.config)"
      ],
      "metadata": {
        "colab": {
          "base_uri": "https://localhost:8080/"
        },
        "id": "o93R2qOV1TFZ",
        "outputId": "ef85ea26-e3e4-4927-9a41-b75f56542138"
      },
      "execution_count": null,
      "outputs": [
        {
          "output_type": "stream",
          "name": "stdout",
          "text": [
            "Sigmoid\n",
            "{'name': 'Sigmoid'}\n",
            "LeakyReLU\n",
            "{'name': 'LeakyReLU', 'alpha': 0.1}\n"
          ]
        }
      ]
    },
    {
      "cell_type": "code",
      "source": [
        "activation_function_dict = {\"sigmoid\":Sigmoid,\"leakyrelu\":LeakyReLU}"
      ],
      "metadata": {
        "id": "HUs3Z7Jsz-3o"
      },
      "execution_count": null,
      "outputs": []
    },
    {
      "cell_type": "markdown",
      "source": [
        "# Base Network "
      ],
      "metadata": {
        "id": "RBD9kq6t0yCT"
      }
    },
    {
      "cell_type": "markdown",
      "source": [
        "## Model"
      ],
      "metadata": {
        "id": "_90wCK3a5zBD"
      }
    },
    {
      "cell_type": "code",
      "source": [
        "# basic linear network for classifying images(as 1D tensor) to 10 classes\n",
        "class BaseNetwork(nn.Module):\n",
        "  def __init__(self,act_func, input_size = 784, num_class = 10, hidden_sizes = [512, 256, 256, 128]):\n",
        "    super().__init__()\n",
        "\n",
        "    # layers list\n",
        "    layers = []\n",
        "    layer_sizes = [input_size] + hidden_sizes\n",
        "    for i in range(len(layer_sizes) - 1):\n",
        "      layers += [nn.Linear(layer_sizes[i],layer_sizes[i+1]),act_func]\n",
        "    layers += [nn.Linear(layer_sizes[-1],num_class)]\n",
        "\n",
        "    # * unpacks the list into positional arguments, nn.Sequential make them as a single module\n",
        "    # ** unpacks the dictionary into key-word arguments\n",
        "    self.layers = nn.Sequential(*layers)\n",
        "\n",
        "    # save hyperparemeters to a dictionary: config\n",
        "    self.config = {\"activation\": act_func.config, \"input_size\": input_size, \"num_class\": num_class,\" hidden_sizes\": hidden_sizes}\n",
        "  \n",
        "  def forward(self, x):\n",
        "    x = x.view(x.size(0),-1) # reshape image to 1D tensor\n",
        "    return self.layers(x)\n",
        "\n"
      ],
      "metadata": {
        "id": "DunjZQI11mZB"
      },
      "execution_count": null,
      "outputs": []
    },
    {
      "cell_type": "code",
      "source": [
        "def save_model(model, model_path, model_name):\n",
        "  config_dict = model.config\n",
        "  os.makedirs(model_path,exist_ok = True)\n",
        "  config_file = os.path.join(model_path, model_name + \".config\")\n",
        "  model_file = os.path.join(model_path, model_name + \".tar\")\n",
        "  # save config(hyperparameter) dict to file using json\n",
        "  with open(config_file, \"w\") as f:\n",
        "    json.dump(config_dict, f)\n",
        "  # save model parameters(model.state_dict()) to file using torch.save()\n",
        "  torch.save(model.state_dict(),model_file)"
      ],
      "metadata": {
        "id": "Vi5m3grX1Qzc"
      },
      "execution_count": null,
      "outputs": []
    },
    {
      "cell_type": "code",
      "source": [
        "def load_model(model_path, model_name, net = None):\n",
        "  config_file = os.path.join(model_path, model_name + \".config\")\n",
        "  model_file = os.path.join(model_path, model_name + \".tar\")\n",
        "\n",
        "  # load config(hyperparameter) from file using json\n",
        "  with open(config_file, \"r\") as f:\n",
        "    config_dict = json.load(f)\n",
        "  \n",
        "  \n",
        "  if net is None:\n",
        "    act_func_name = config_dict[\"activation\"].pop(\"name\").lower() # get activation function name\n",
        "    act_func = activation_function_dict[act_func_name]()\n",
        "    net = BaseNetwork(act_func = act_func, **config_dict)\n",
        "\n",
        "  # load parameters(state_dict) from file using torch.load()\n",
        "  # net.load_state_dict() can use state_dict() as initial parameter\n",
        "  net.load_state_dict(torch.load(model_file, map_location = device))\n",
        "\n",
        "  return net\n"
      ],
      "metadata": {
        "id": "gVpbmLysAURb"
      },
      "execution_count": null,
      "outputs": []
    },
    {
      "cell_type": "markdown",
      "source": [
        "## Dataset"
      ],
      "metadata": {
        "id": "H-Vjk56952Zy"
      }
    },
    {
      "cell_type": "code",
      "source": [
        "import torchvision\n",
        "from torchvision.datasets import FashionMNIST\n",
        "from torchvision import transforms\n",
        "\n",
        "# transforms apply on each image\n",
        "# transforms.ToTensor() change [0,255] -> [0,1] float value: (C,H,W)\n",
        "# transforms.Normalize() do: (pixel_value - mean) / std,  pixel_value: [0,1], normalize_pixel_value:((0-0.5)/0.5, (1-0.5)/0.5) = [-1,1]\n",
        "transform = transforms.Compose([transforms.ToTensor(), transforms.Normalize(mean = (0.5,),std = (0.5,))])\n",
        "\n",
        "# train dataset, validation dataset\n",
        "train_dataset = FashionMNIST(root = DATASET_PATH, train = True, transform = transform, download = True)\n",
        "train_set, val_set = torch.utils.data.random_split(train_dataset, [50000,10000])\n",
        "\n",
        "# test dataset\n",
        "test_set = FashionMNIST(root = DATASET_PATH, train = False, transform = transform, download = True)\n",
        "\n",
        "# data loader\n",
        "train_loader = data.DataLoader(train_set, batch_size = 256, shuffle =True, drop_last = False, pin_memory=True)\n",
        "val_loader = data.DataLoader(val_set, batch_size = 256, shuffle =False, drop_last = False)\n",
        "test_loader = data.DataLoader(test_set, batch_size = 256, shuffle =False, drop_last = False)"
      ],
      "metadata": {
        "id": "r-xdLwa71O3s"
      },
      "execution_count": 46,
      "outputs": []
    },
    {
      "cell_type": "markdown",
      "source": [
        "# Train with different hyper-parameter"
      ],
      "metadata": {
        "id": "hHNujLvOBYG_"
      }
    },
    {
      "cell_type": "markdown",
      "source": [
        "Train the network and save the model with best validating accuracy to files(different names for different networks).\n",
        "\n",
        "Test the network by loading from files."
      ],
      "metadata": {
        "id": "oaecNeF6NY0A"
      }
    },
    {
      "cell_type": "code",
      "source": [
        "def train_model(net, model_name, train_loader, val_loader, test_loader, epoch_num = 50, overwrite = False):\n",
        "  is_file_exist = os.path.isfile(os.path.join(CHECKPOINT_PATH, model_name + \".tar\"))\n",
        "  if (is_file_exist and not overwrite):\n",
        "    print(\"Model exist, skipping training.\")\n",
        "  else:\n",
        "    if is_file_exist:\n",
        "      print(\"Model exist, overwriting model, start training...\")\n",
        "\n",
        "      optimizer = optim.SGD(net.parameters(), lr = 0.01, momentum=0.9)\n",
        "      loss_func = nn.CrossEntropyLoss()\n",
        "\n",
        "      val_acc_list = []\n",
        "      best_epoch = -1\n",
        "      for epoch in range(epoch_num):\n",
        "        net.train()\n",
        "\n",
        "        ########## Train ##########\n",
        "        true_preds_num, all_preds_num = 0, 0\n",
        "        for X, y in tqdm(train_loader, desc = f\"Epoch {epoch + 1} : \" ,leave = False):\n",
        "          # X is image (N,1,H,W), y is label (N,)\n",
        "          X = X.to(device)\n",
        "          y = y.to(device)\n",
        "\n",
        "          # forward and losss\n",
        "          preds = net(X) # preds is (N,10)\n",
        "          loss = loss_func(preds,y)\n",
        "\n",
        "          # backward and updata parameter\n",
        "          optimizer.zero_grad()\n",
        "          loss.backward()\n",
        "          optimizer.step()\n",
        "\n",
        "          # statistics during training\n",
        "          true_preds_num += (preds.argmax(dim = -1) == y).sum().item()\n",
        "          all_preds_num += y.shape[0]\n",
        "        # train accuracy\n",
        "        train_acc = true_preds_num / all_preds_num\n",
        "\n",
        "        ######## Validation ############\n",
        "\n",
        "        # validate accuracy\n",
        "        val_acc = eval_model(net, val_loader)\n",
        "        val_acc_list.append(val_acc)\n",
        "        print(f\"[Epoch {epoch +1 : 2d}]: Train Accuarcy: {train_acc*100:5.2f}%, Validation Accuracy:{val_acc*100:5.2f}%\")\n",
        "      \n",
        "        # save the model with the best validate accuracy\n",
        "        if(len(val_acc_list) == 1 or (val_acc > val_acc_list[best_val_acc_epoch])):\n",
        "          print(\"New best model accuracy, saving model...\")\n",
        "\n",
        "          save_model(net, CHECKPOINT_PATH, model_name)\n",
        "          best_val_acc_epoch = epoch\n",
        "      \n",
        "  ############ Test ##########\n",
        "  # load model\n",
        "  load_model(CHECKPOINT_PATH,model_name, net = net)\n",
        "  test_acc = eval_model(net,test_loader)\n",
        "\n",
        "  print((f\"Test Accuracy:{test_acc*100:5.2f}%\").center(50, \"=\") + \"\\n\")\n",
        "  return test_acc\n",
        "\n",
        "\n"
      ],
      "metadata": {
        "id": "_l2mSwbI-fRm"
      },
      "execution_count": null,
      "outputs": []
    },
    {
      "cell_type": "code",
      "source": [
        "def eval_model(net, data_loader):\n",
        "  net.eval()\n",
        "\n",
        "  true_preds_num, all_preds_num = 0, 0\n",
        "  for X,y in data_loader:\n",
        "    X = X.to(device)\n",
        "    y = y.to(device)\n",
        "\n",
        "    with torch.no_grad():\n",
        "      preds = net(X)\n",
        "      true_preds_num += (preds.argmax(dim = -1) == y).sum().item()\n",
        "      all_preds_num += y.shape[0]\n",
        "  test_acc = true_preds_num / all_preds_num\n",
        "  return test_acc"
      ],
      "metadata": {
        "id": "FmouSlBHI0Av"
      },
      "execution_count": null,
      "outputs": []
    },
    {
      "cell_type": "markdown",
      "source": [
        "Try network with different activation functions, compare the accuracy on FashionMNIST test dataset."
      ],
      "metadata": {
        "id": "aFhTMxN5SdHL"
      }
    },
    {
      "cell_type": "code",
      "source": [
        "for act_func_name, act_func in activation_function_dict.items():\n",
        "  set_seed(42)\n",
        "  network = BaseNetwork(act_func = act_func()).to(device)\n",
        "  train_model(net = network, model_name = f\"FashionMNIST_{act_func_name}\", \n",
        "              train_loader = train_loader,val_loader = val_loader,test_loader = test_loader,overwrite= False)\n",
        "  \n",
        "  "
      ],
      "metadata": {
        "colab": {
          "base_uri": "https://localhost:8080/"
        },
        "id": "n-R0pFsKN7qm",
        "outputId": "86e38835-763c-4e79-8b30-6555b5657a45"
      },
      "execution_count": null,
      "outputs": [
        {
          "output_type": "stream",
          "name": "stdout",
          "text": [
            "Model exist, skipping training.\n",
            "===============Test Accuracy:10.00%===============\n",
            "\n",
            "Model exist, skipping training.\n",
            "===============Test Accuracy:88.92%===============\n",
            "\n"
          ]
        }
      ]
    },
    {
      "cell_type": "code",
      "source": [
        "# Example : network: leakyReLU, train 5 epochs by yourself: set epoch_num = 5,overwrite = True\n",
        "network = BaseNetwork(act_func = LeakyReLU()).to(device)\n",
        "train_model(net = network, model_name = f\"FashionMNIST_leakyrelu\", \n",
        "             train_loader = train_loader,val_loader = val_loader,test_loader = test_loader, epoch_num = 5,overwrite= True)"
      ],
      "metadata": {
        "colab": {
          "base_uri": "https://localhost:8080/",
          "height": 255,
          "referenced_widgets": [
            "1519de7c23a1431593ce90c2c86cc8cb",
            "6a5186ea753c438fbb1e6c624bb6f57b",
            "40ec8111b8bf41c1938ecb1acfa1ed44",
            "0a036bac9614415199257e1c1e986ff8",
            "5f40241eb60c4eedb82f4bfdf428072c",
            "420e7b4da704479ca52c6ab20fa5c0f1",
            "1381385159aa46a1b6fb4f12811fe010",
            "80d541ac84d14510a99c0f11e8933479",
            "27123b44b7d943bfb6827241d057fd27",
            "08538fd21f7d4d59b4c4fc6e6504cd58",
            "7e6a850c42fc4f21a2c906d6dfa6d834",
            "1f697fb2ee53439288b6f3b7e6d94d08",
            "61b1aa31a3bb4072b06401a52f7b5aca",
            "618ac6fc98dd457fb1bd01aba2552130",
            "41f9d53a00434a8fb5c9c566ad440939",
            "304fbae8d8b24b3789dabbfeb1d1e516",
            "3e4261802f964c57aff61051b9b810a2",
            "f5a8e500dd394e52a99615a17b96a4eb",
            "dd368a9f92b54926b91aacc437f36290",
            "9081afc91a90478da1a2f75223c671e5",
            "2a42419b3941428bbb69c6e180efbd51",
            "f9e749a49d754826b444bbfaa34c6226",
            "26f0c5511e434b9cb830f293f72087c0",
            "dc84e1d02b4f46918ac2123895edf4b5",
            "be81747e68094a7a8a4117d84d327ca9",
            "ab100d2cac2f43e0a7cfbf64512ddc5d",
            "4925dd6086a241798b3f2233b746d654",
            "b3897d9140e64be298aff8dce98c2cb9",
            "b5a97c9f1f8f4989bab101dfdbedfe8a",
            "ea04d2fba411442dbdfa75a419883094",
            "b6725879bd0e4e27bd7df6e97fab25dd",
            "f9b2a38d8a774429b06cd939fd0c0938",
            "596d0608594040e88d02a9a2f09e9aae",
            "32bd43c4078243b58e652d586916f568",
            "a811db9502824795aa483a38d79ecb20",
            "f5e13d2a6e284daa9718dd220a6b9585",
            "d1a70c94171c4d07963d98ebfc2e8e45",
            "ddc3ec3ea0be465b81b9c2cf7bc57651",
            "2cb79c240a884c749240e6d67edb98a1",
            "4d4a318703084dc9b62c7144902f5731",
            "7fa4e22f395f4dc7a462bc89c1cf0576",
            "5676573fc561448a92c67af3ef1d815b",
            "91ec789725b34754a4e169523180f64e",
            "d58addf6bb09402badf0e354cb275c4e",
            "76e486da4e8649dc9e6a0d5a6c4f56b3",
            "991f82d1e1994fe8a8c26b25f7e08192",
            "9aea936e97ea44f5ade08242b5007dda",
            "42b8c7e36713460a8a61ab4b874789a3",
            "6af5eaff58c944499e5f932a90f7fdcb",
            "8fc0cb0a41f64b1384372adf2103bfe0",
            "1a0e908830f144d685f555ccf7b09ea6",
            "fc25b334ccc5400481c8a2e2dd28eed6",
            "6a9b29ac87b94d34ae9f7788a09ca040",
            "93ab9bc884d1490184f8bc3b554ef057",
            "33a5036260b5456bb4a8eb0ed1acf505"
          ]
        },
        "id": "xw52Ee5NTqFu",
        "outputId": "e5be80d0-5018-4f03-ae31-d9086f45e363"
      },
      "execution_count": null,
      "outputs": [
        {
          "output_type": "stream",
          "name": "stdout",
          "text": [
            "Model exist, overwriting model, start training...\n"
          ]
        },
        {
          "output_type": "display_data",
          "data": {
            "text/plain": [
              "Epoch 1 :   0%|          | 0/196 [00:00<?, ?it/s]"
            ],
            "application/vnd.jupyter.widget-view+json": {
              "version_major": 2,
              "version_minor": 0,
              "model_id": "1519de7c23a1431593ce90c2c86cc8cb"
            }
          },
          "metadata": {}
        },
        {
          "output_type": "stream",
          "name": "stdout",
          "text": [
            "[Epoch  1]: Train Accuarcy: 50.30%, Validation Accuracy:75.68%\n",
            "New best model accuracy, saving model...\n"
          ]
        },
        {
          "output_type": "display_data",
          "data": {
            "text/plain": [
              "Epoch 2 :   0%|          | 0/196 [00:00<?, ?it/s]"
            ],
            "application/vnd.jupyter.widget-view+json": {
              "version_major": 2,
              "version_minor": 0,
              "model_id": "1f697fb2ee53439288b6f3b7e6d94d08"
            }
          },
          "metadata": {}
        },
        {
          "output_type": "stream",
          "name": "stdout",
          "text": [
            "[Epoch  2]: Train Accuarcy: 79.10%, Validation Accuracy:82.33%\n",
            "New best model accuracy, saving model...\n"
          ]
        },
        {
          "output_type": "display_data",
          "data": {
            "text/plain": [
              "Epoch 3 :   0%|          | 0/196 [00:00<?, ?it/s]"
            ],
            "application/vnd.jupyter.widget-view+json": {
              "version_major": 2,
              "version_minor": 0,
              "model_id": "26f0c5511e434b9cb830f293f72087c0"
            }
          },
          "metadata": {}
        },
        {
          "output_type": "stream",
          "name": "stdout",
          "text": [
            "[Epoch  3]: Train Accuarcy: 82.69%, Validation Accuracy:84.10%\n",
            "New best model accuracy, saving model...\n"
          ]
        },
        {
          "output_type": "display_data",
          "data": {
            "text/plain": [
              "Epoch 4 :   0%|          | 0/196 [00:00<?, ?it/s]"
            ],
            "application/vnd.jupyter.widget-view+json": {
              "version_major": 2,
              "version_minor": 0,
              "model_id": "32bd43c4078243b58e652d586916f568"
            }
          },
          "metadata": {}
        },
        {
          "output_type": "stream",
          "name": "stdout",
          "text": [
            "[Epoch  4]: Train Accuarcy: 84.42%, Validation Accuracy:85.02%\n",
            "New best model accuracy, saving model...\n"
          ]
        },
        {
          "output_type": "display_data",
          "data": {
            "text/plain": [
              "Epoch 5 :   0%|          | 0/196 [00:00<?, ?it/s]"
            ],
            "application/vnd.jupyter.widget-view+json": {
              "version_major": 2,
              "version_minor": 0,
              "model_id": "76e486da4e8649dc9e6a0d5a6c4f56b3"
            }
          },
          "metadata": {}
        },
        {
          "output_type": "stream",
          "name": "stdout",
          "text": [
            "[Epoch  5]: Train Accuarcy: 85.58%, Validation Accuracy:85.32%\n",
            "New best model accuracy, saving model...\n",
            "===============Test Accuracy:84.43%===============\n",
            "\n"
          ]
        },
        {
          "output_type": "execute_result",
          "data": {
            "text/plain": [
              "0.8443"
            ]
          },
          "metadata": {},
          "execution_count": 45
        }
      ]
    }
  ]
}